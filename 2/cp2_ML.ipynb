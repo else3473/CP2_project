{
 "cells": [
  {
   "attachments": {},
   "cell_type": "markdown",
   "metadata": {},
   "source": [
    "머신러닝 분석의 목표\n",
    "\n",
    "셀럽의 데이터를 이용해 이탈확률을 예측하는 분류모델을 학습하고 그 결과를 해석하여 이탈률에 가장 큰 영향을 미치는 특징을 탐색한다."
   ]
  },
  {
   "attachments": {},
   "cell_type": "markdown",
   "metadata": {},
   "source": [
    "### ML 학습을 위한 전처리"
   ]
  },
  {
   "cell_type": "code",
   "execution_count": 225,
   "metadata": {},
   "outputs": [],
   "source": [
    "import pandas as pd\n",
    "df_fansim=pd.read_csv('분석용_데이터_최종.csv')"
   ]
  },
  {
   "cell_type": "code",
   "execution_count": 226,
   "metadata": {},
   "outputs": [],
   "source": [
    "# col 생략 없이 출력\n",
    "pd.set_option('display.max_columns', None)"
   ]
  },
  {
   "cell_type": "code",
   "execution_count": 227,
   "metadata": {},
   "outputs": [
    {
     "data": {
      "text/html": [
       "<div>\n",
       "<style scoped>\n",
       "    .dataframe tbody tr th:only-of-type {\n",
       "        vertical-align: middle;\n",
       "    }\n",
       "\n",
       "    .dataframe tbody tr th {\n",
       "        vertical-align: top;\n",
       "    }\n",
       "\n",
       "    .dataframe thead th {\n",
       "        text-align: right;\n",
       "    }\n",
       "</style>\n",
       "<table border=\"1\" class=\"dataframe\">\n",
       "  <thead>\n",
       "    <tr style=\"text-align: right;\">\n",
       "      <th></th>\n",
       "      <th>user_nickname</th>\n",
       "      <th>last_celeb_chat_date</th>\n",
       "      <th>first_celeb_chat_date</th>\n",
       "      <th>celeb_chat_period</th>\n",
       "      <th>celeb_chat_week</th>\n",
       "      <th>celeb_chat_count</th>\n",
       "      <th>avg_celeb_chat</th>\n",
       "      <th>last_week_celeb_chat_count</th>\n",
       "      <th>celeb_chat_length</th>\n",
       "      <th>celeb_chat_avg_len</th>\n",
       "      <th>churn</th>\n",
       "      <th>celeb_joinus_date</th>\n",
       "      <th>celeb_type</th>\n",
       "      <th>last_fan_chat_date</th>\n",
       "      <th>first_fan_chat_date</th>\n",
       "      <th>fan_chat_period</th>\n",
       "      <th>fan_chat_week</th>\n",
       "      <th>fan_chat_count</th>\n",
       "      <th>avg_fan_chat</th>\n",
       "      <th>last_week_fan_chat_count</th>\n",
       "      <th>sticker_count</th>\n",
       "      <th>Total_sticker_sales</th>\n",
       "      <th>avg_sticker_price</th>\n",
       "    </tr>\n",
       "  </thead>\n",
       "  <tbody>\n",
       "    <tr>\n",
       "      <th>0</th>\n",
       "      <td>(ㅅ´ ˘ `)♡</td>\n",
       "      <td>2022-11-17</td>\n",
       "      <td>2022-11-17</td>\n",
       "      <td>1</td>\n",
       "      <td>1</td>\n",
       "      <td>7</td>\n",
       "      <td>7.00</td>\n",
       "      <td>7</td>\n",
       "      <td>57.0</td>\n",
       "      <td>8.142857</td>\n",
       "      <td>1</td>\n",
       "      <td>before 2022-09-04</td>\n",
       "      <td>churn_customer</td>\n",
       "      <td>NaN</td>\n",
       "      <td>NaN</td>\n",
       "      <td>0.0</td>\n",
       "      <td>0.0</td>\n",
       "      <td>0.0</td>\n",
       "      <td>0.00</td>\n",
       "      <td>0.0</td>\n",
       "      <td>0.0</td>\n",
       "      <td>0.0</td>\n",
       "      <td>0.0</td>\n",
       "    </tr>\n",
       "    <tr>\n",
       "      <th>1</th>\n",
       "      <td>BJ민하_+</td>\n",
       "      <td>2022-12-20</td>\n",
       "      <td>2022-12-20</td>\n",
       "      <td>1</td>\n",
       "      <td>1</td>\n",
       "      <td>4</td>\n",
       "      <td>4.00</td>\n",
       "      <td>4</td>\n",
       "      <td>108.0</td>\n",
       "      <td>27.000000</td>\n",
       "      <td>1</td>\n",
       "      <td>2022-12-20</td>\n",
       "      <td>churn_customer</td>\n",
       "      <td>NaN</td>\n",
       "      <td>NaN</td>\n",
       "      <td>0.0</td>\n",
       "      <td>0.0</td>\n",
       "      <td>0.0</td>\n",
       "      <td>0.00</td>\n",
       "      <td>0.0</td>\n",
       "      <td>0.0</td>\n",
       "      <td>0.0</td>\n",
       "      <td>0.0</td>\n",
       "    </tr>\n",
       "    <tr>\n",
       "      <th>2</th>\n",
       "      <td>Chu_a</td>\n",
       "      <td>2023-01-20</td>\n",
       "      <td>2022-11-26</td>\n",
       "      <td>56</td>\n",
       "      <td>8</td>\n",
       "      <td>964</td>\n",
       "      <td>120.50</td>\n",
       "      <td>81</td>\n",
       "      <td>8481.0</td>\n",
       "      <td>8.797718</td>\n",
       "      <td>0</td>\n",
       "      <td>2022-11-26</td>\n",
       "      <td>mid_term</td>\n",
       "      <td>2023-01-20</td>\n",
       "      <td>2022-11-26</td>\n",
       "      <td>56.0</td>\n",
       "      <td>8.0</td>\n",
       "      <td>1861.0</td>\n",
       "      <td>232.62</td>\n",
       "      <td>88.0</td>\n",
       "      <td>0.0</td>\n",
       "      <td>0.0</td>\n",
       "      <td>0.0</td>\n",
       "    </tr>\n",
       "    <tr>\n",
       "      <th>3</th>\n",
       "      <td>Coomo</td>\n",
       "      <td>2022-09-06</td>\n",
       "      <td>2022-09-06</td>\n",
       "      <td>1</td>\n",
       "      <td>1</td>\n",
       "      <td>1</td>\n",
       "      <td>1.00</td>\n",
       "      <td>1</td>\n",
       "      <td>1.0</td>\n",
       "      <td>1.000000</td>\n",
       "      <td>1</td>\n",
       "      <td>before 2022-09-04</td>\n",
       "      <td>churn_customer</td>\n",
       "      <td>2022-11-06</td>\n",
       "      <td>2022-09-06</td>\n",
       "      <td>62.0</td>\n",
       "      <td>9.0</td>\n",
       "      <td>9.0</td>\n",
       "      <td>1.00</td>\n",
       "      <td>1.0</td>\n",
       "      <td>1.0</td>\n",
       "      <td>50.0</td>\n",
       "      <td>50.0</td>\n",
       "    </tr>\n",
       "    <tr>\n",
       "      <th>4</th>\n",
       "      <td>Cuha_큐하</td>\n",
       "      <td>2022-09-20</td>\n",
       "      <td>2022-09-20</td>\n",
       "      <td>1</td>\n",
       "      <td>1</td>\n",
       "      <td>2</td>\n",
       "      <td>2.00</td>\n",
       "      <td>2</td>\n",
       "      <td>55.0</td>\n",
       "      <td>27.500000</td>\n",
       "      <td>1</td>\n",
       "      <td>before 2022-09-04</td>\n",
       "      <td>churn_customer</td>\n",
       "      <td>2022-09-20</td>\n",
       "      <td>2022-09-20</td>\n",
       "      <td>1.0</td>\n",
       "      <td>1.0</td>\n",
       "      <td>1.0</td>\n",
       "      <td>1.00</td>\n",
       "      <td>1.0</td>\n",
       "      <td>0.0</td>\n",
       "      <td>0.0</td>\n",
       "      <td>0.0</td>\n",
       "    </tr>\n",
       "    <tr>\n",
       "      <th>...</th>\n",
       "      <td>...</td>\n",
       "      <td>...</td>\n",
       "      <td>...</td>\n",
       "      <td>...</td>\n",
       "      <td>...</td>\n",
       "      <td>...</td>\n",
       "      <td>...</td>\n",
       "      <td>...</td>\n",
       "      <td>...</td>\n",
       "      <td>...</td>\n",
       "      <td>...</td>\n",
       "      <td>...</td>\n",
       "      <td>...</td>\n",
       "      <td>...</td>\n",
       "      <td>...</td>\n",
       "      <td>...</td>\n",
       "      <td>...</td>\n",
       "      <td>...</td>\n",
       "      <td>...</td>\n",
       "      <td>...</td>\n",
       "      <td>...</td>\n",
       "      <td>...</td>\n",
       "      <td>...</td>\n",
       "    </tr>\n",
       "    <tr>\n",
       "      <th>601</th>\n",
       "      <td>🍓아카영</td>\n",
       "      <td>2022-11-09</td>\n",
       "      <td>2022-10-05</td>\n",
       "      <td>36</td>\n",
       "      <td>6</td>\n",
       "      <td>1643</td>\n",
       "      <td>273.83</td>\n",
       "      <td>327</td>\n",
       "      <td>22724.0</td>\n",
       "      <td>13.830797</td>\n",
       "      <td>1</td>\n",
       "      <td>before 2022-09-04</td>\n",
       "      <td>churn_customer</td>\n",
       "      <td>2022-11-09</td>\n",
       "      <td>2022-09-04</td>\n",
       "      <td>67.0</td>\n",
       "      <td>10.0</td>\n",
       "      <td>6010.0</td>\n",
       "      <td>601.00</td>\n",
       "      <td>438.0</td>\n",
       "      <td>0.0</td>\n",
       "      <td>0.0</td>\n",
       "      <td>0.0</td>\n",
       "    </tr>\n",
       "    <tr>\n",
       "      <th>602</th>\n",
       "      <td>🍼한우유</td>\n",
       "      <td>2023-01-20</td>\n",
       "      <td>2022-12-21</td>\n",
       "      <td>31</td>\n",
       "      <td>5</td>\n",
       "      <td>261</td>\n",
       "      <td>52.20</td>\n",
       "      <td>100</td>\n",
       "      <td>5822.0</td>\n",
       "      <td>22.306513</td>\n",
       "      <td>0</td>\n",
       "      <td>before 2022-09-04</td>\n",
       "      <td>new_customer</td>\n",
       "      <td>2023-01-20</td>\n",
       "      <td>2022-10-03</td>\n",
       "      <td>110.0</td>\n",
       "      <td>16.0</td>\n",
       "      <td>1848.0</td>\n",
       "      <td>115.50</td>\n",
       "      <td>201.0</td>\n",
       "      <td>4.0</td>\n",
       "      <td>100.0</td>\n",
       "      <td>25.0</td>\n",
       "    </tr>\n",
       "    <tr>\n",
       "      <th>603</th>\n",
       "      <td>👿르릉이</td>\n",
       "      <td>2023-01-20</td>\n",
       "      <td>2022-11-27</td>\n",
       "      <td>55</td>\n",
       "      <td>8</td>\n",
       "      <td>167</td>\n",
       "      <td>20.88</td>\n",
       "      <td>2</td>\n",
       "      <td>1573.0</td>\n",
       "      <td>9.419162</td>\n",
       "      <td>0</td>\n",
       "      <td>before 2022-09-04</td>\n",
       "      <td>mid_term</td>\n",
       "      <td>2023-01-20</td>\n",
       "      <td>2022-09-14</td>\n",
       "      <td>129.0</td>\n",
       "      <td>19.0</td>\n",
       "      <td>3061.0</td>\n",
       "      <td>161.11</td>\n",
       "      <td>5.0</td>\n",
       "      <td>5.0</td>\n",
       "      <td>760.0</td>\n",
       "      <td>152.0</td>\n",
       "    </tr>\n",
       "    <tr>\n",
       "      <th>604</th>\n",
       "      <td>🔮뉸뉴</td>\n",
       "      <td>2023-01-18</td>\n",
       "      <td>2023-01-13</td>\n",
       "      <td>6</td>\n",
       "      <td>1</td>\n",
       "      <td>83</td>\n",
       "      <td>83.00</td>\n",
       "      <td>83</td>\n",
       "      <td>615.0</td>\n",
       "      <td>7.409639</td>\n",
       "      <td>0</td>\n",
       "      <td>before 2022-09-04</td>\n",
       "      <td>new_customer</td>\n",
       "      <td>NaN</td>\n",
       "      <td>NaN</td>\n",
       "      <td>0.0</td>\n",
       "      <td>0.0</td>\n",
       "      <td>0.0</td>\n",
       "      <td>0.00</td>\n",
       "      <td>0.0</td>\n",
       "      <td>0.0</td>\n",
       "      <td>0.0</td>\n",
       "      <td>0.0</td>\n",
       "    </tr>\n",
       "    <tr>\n",
       "      <th>605</th>\n",
       "      <td>🖤기래민</td>\n",
       "      <td>2023-01-20</td>\n",
       "      <td>2022-11-28</td>\n",
       "      <td>54</td>\n",
       "      <td>8</td>\n",
       "      <td>966</td>\n",
       "      <td>120.75</td>\n",
       "      <td>105</td>\n",
       "      <td>15950.0</td>\n",
       "      <td>16.511387</td>\n",
       "      <td>0</td>\n",
       "      <td>before 2022-09-04</td>\n",
       "      <td>mid_term</td>\n",
       "      <td>2023-01-20</td>\n",
       "      <td>2022-09-04</td>\n",
       "      <td>139.0</td>\n",
       "      <td>20.0</td>\n",
       "      <td>6528.0</td>\n",
       "      <td>326.40</td>\n",
       "      <td>186.0</td>\n",
       "      <td>8.0</td>\n",
       "      <td>110.0</td>\n",
       "      <td>13.8</td>\n",
       "    </tr>\n",
       "  </tbody>\n",
       "</table>\n",
       "<p>606 rows × 23 columns</p>\n",
       "</div>"
      ],
      "text/plain": [
       "    user_nickname last_celeb_chat_date first_celeb_chat_date  \\\n",
       "0       (ㅅ´ ˘ `)♡           2022-11-17            2022-11-17   \n",
       "1          BJ민하_+           2022-12-20            2022-12-20   \n",
       "2           Chu_a           2023-01-20            2022-11-26   \n",
       "3           Coomo           2022-09-06            2022-09-06   \n",
       "4         Cuha_큐하           2022-09-20            2022-09-20   \n",
       "..            ...                  ...                   ...   \n",
       "601          🍓아카영           2022-11-09            2022-10-05   \n",
       "602          🍼한우유           2023-01-20            2022-12-21   \n",
       "603          👿르릉이           2023-01-20            2022-11-27   \n",
       "604           🔮뉸뉴           2023-01-18            2023-01-13   \n",
       "605          🖤기래민           2023-01-20            2022-11-28   \n",
       "\n",
       "     celeb_chat_period  celeb_chat_week  celeb_chat_count  avg_celeb_chat  \\\n",
       "0                    1                1                 7            7.00   \n",
       "1                    1                1                 4            4.00   \n",
       "2                   56                8               964          120.50   \n",
       "3                    1                1                 1            1.00   \n",
       "4                    1                1                 2            2.00   \n",
       "..                 ...              ...               ...             ...   \n",
       "601                 36                6              1643          273.83   \n",
       "602                 31                5               261           52.20   \n",
       "603                 55                8               167           20.88   \n",
       "604                  6                1                83           83.00   \n",
       "605                 54                8               966          120.75   \n",
       "\n",
       "     last_week_celeb_chat_count  celeb_chat_length  celeb_chat_avg_len  churn  \\\n",
       "0                             7               57.0            8.142857      1   \n",
       "1                             4              108.0           27.000000      1   \n",
       "2                            81             8481.0            8.797718      0   \n",
       "3                             1                1.0            1.000000      1   \n",
       "4                             2               55.0           27.500000      1   \n",
       "..                          ...                ...                 ...    ...   \n",
       "601                         327            22724.0           13.830797      1   \n",
       "602                         100             5822.0           22.306513      0   \n",
       "603                           2             1573.0            9.419162      0   \n",
       "604                          83              615.0            7.409639      0   \n",
       "605                         105            15950.0           16.511387      0   \n",
       "\n",
       "     celeb_joinus_date      celeb_type last_fan_chat_date first_fan_chat_date  \\\n",
       "0    before 2022-09-04  churn_customer                NaN                 NaN   \n",
       "1           2022-12-20  churn_customer                NaN                 NaN   \n",
       "2           2022-11-26        mid_term         2023-01-20          2022-11-26   \n",
       "3    before 2022-09-04  churn_customer         2022-11-06          2022-09-06   \n",
       "4    before 2022-09-04  churn_customer         2022-09-20          2022-09-20   \n",
       "..                 ...             ...                ...                 ...   \n",
       "601  before 2022-09-04  churn_customer         2022-11-09          2022-09-04   \n",
       "602  before 2022-09-04    new_customer         2023-01-20          2022-10-03   \n",
       "603  before 2022-09-04        mid_term         2023-01-20          2022-09-14   \n",
       "604  before 2022-09-04    new_customer                NaN                 NaN   \n",
       "605  before 2022-09-04        mid_term         2023-01-20          2022-09-04   \n",
       "\n",
       "     fan_chat_period  fan_chat_week  fan_chat_count  avg_fan_chat  \\\n",
       "0                0.0            0.0             0.0          0.00   \n",
       "1                0.0            0.0             0.0          0.00   \n",
       "2               56.0            8.0          1861.0        232.62   \n",
       "3               62.0            9.0             9.0          1.00   \n",
       "4                1.0            1.0             1.0          1.00   \n",
       "..               ...            ...             ...           ...   \n",
       "601             67.0           10.0          6010.0        601.00   \n",
       "602            110.0           16.0          1848.0        115.50   \n",
       "603            129.0           19.0          3061.0        161.11   \n",
       "604              0.0            0.0             0.0          0.00   \n",
       "605            139.0           20.0          6528.0        326.40   \n",
       "\n",
       "     last_week_fan_chat_count  sticker_count  Total_sticker_sales  \\\n",
       "0                         0.0            0.0                  0.0   \n",
       "1                         0.0            0.0                  0.0   \n",
       "2                        88.0            0.0                  0.0   \n",
       "3                         1.0            1.0                 50.0   \n",
       "4                         1.0            0.0                  0.0   \n",
       "..                        ...            ...                  ...   \n",
       "601                     438.0            0.0                  0.0   \n",
       "602                     201.0            4.0                100.0   \n",
       "603                       5.0            5.0                760.0   \n",
       "604                       0.0            0.0                  0.0   \n",
       "605                     186.0            8.0                110.0   \n",
       "\n",
       "     avg_sticker_price  \n",
       "0                  0.0  \n",
       "1                  0.0  \n",
       "2                  0.0  \n",
       "3                 50.0  \n",
       "4                  0.0  \n",
       "..                 ...  \n",
       "601                0.0  \n",
       "602               25.0  \n",
       "603              152.0  \n",
       "604                0.0  \n",
       "605               13.8  \n",
       "\n",
       "[606 rows x 23 columns]"
      ]
     },
     "execution_count": 227,
     "metadata": {},
     "output_type": "execute_result"
    }
   ],
   "source": [
    "df_fansim"
   ]
  },
  {
   "cell_type": "code",
   "execution_count": 228,
   "metadata": {},
   "outputs": [],
   "source": [
    "# ML 학습 전 데이터 누수(Data leakage) 가능성이 큰 컬럼들, 학습에 도움이 되지않는 유저닉네임 제거\n",
    "df_ml= df_fansim.drop(['celeb_type','celeb_chat_period','celeb_chat_week','fan_chat_period','fan_chat_week','user_nickname'], axis=1)\n",
    "\n",
    "#Cardinality가 너무 큰 날짜데이터들도 삭제 -> 채팅기간 컬럼으로 대체\n",
    "df_ml= df_ml.drop(['last_celeb_chat_date','first_celeb_chat_date','celeb_joinus_date','last_fan_chat_date', 'first_fan_chat_date' ], axis=1)"
   ]
  },
  {
   "cell_type": "code",
   "execution_count": 229,
   "metadata": {},
   "outputs": [
    {
     "data": {
      "text/html": [
       "<div>\n",
       "<style scoped>\n",
       "    .dataframe tbody tr th:only-of-type {\n",
       "        vertical-align: middle;\n",
       "    }\n",
       "\n",
       "    .dataframe tbody tr th {\n",
       "        vertical-align: top;\n",
       "    }\n",
       "\n",
       "    .dataframe thead th {\n",
       "        text-align: right;\n",
       "    }\n",
       "</style>\n",
       "<table border=\"1\" class=\"dataframe\">\n",
       "  <thead>\n",
       "    <tr style=\"text-align: right;\">\n",
       "      <th></th>\n",
       "      <th>celeb_chat_count</th>\n",
       "      <th>avg_celeb_chat</th>\n",
       "      <th>last_week_celeb_chat_count</th>\n",
       "      <th>celeb_chat_length</th>\n",
       "      <th>celeb_chat_avg_len</th>\n",
       "      <th>churn</th>\n",
       "      <th>fan_chat_count</th>\n",
       "      <th>avg_fan_chat</th>\n",
       "      <th>last_week_fan_chat_count</th>\n",
       "      <th>sticker_count</th>\n",
       "      <th>Total_sticker_sales</th>\n",
       "      <th>avg_sticker_price</th>\n",
       "      <th>celeb_last_week_chat_rate</th>\n",
       "      <th>fan_last_week_chat_rate</th>\n",
       "      <th>celeb_chat_len/week</th>\n",
       "    </tr>\n",
       "  </thead>\n",
       "  <tbody>\n",
       "    <tr>\n",
       "      <th>0</th>\n",
       "      <td>7</td>\n",
       "      <td>7.00</td>\n",
       "      <td>7</td>\n",
       "      <td>57.0</td>\n",
       "      <td>8.142857</td>\n",
       "      <td>1</td>\n",
       "      <td>0.0</td>\n",
       "      <td>0.00</td>\n",
       "      <td>0.0</td>\n",
       "      <td>0.0</td>\n",
       "      <td>0.0</td>\n",
       "      <td>0.0</td>\n",
       "      <td>1.000000</td>\n",
       "      <td>NaN</td>\n",
       "      <td>57.000000</td>\n",
       "    </tr>\n",
       "    <tr>\n",
       "      <th>1</th>\n",
       "      <td>4</td>\n",
       "      <td>4.00</td>\n",
       "      <td>4</td>\n",
       "      <td>108.0</td>\n",
       "      <td>27.000000</td>\n",
       "      <td>1</td>\n",
       "      <td>0.0</td>\n",
       "      <td>0.00</td>\n",
       "      <td>0.0</td>\n",
       "      <td>0.0</td>\n",
       "      <td>0.0</td>\n",
       "      <td>0.0</td>\n",
       "      <td>1.000000</td>\n",
       "      <td>NaN</td>\n",
       "      <td>108.000000</td>\n",
       "    </tr>\n",
       "    <tr>\n",
       "      <th>2</th>\n",
       "      <td>964</td>\n",
       "      <td>120.50</td>\n",
       "      <td>81</td>\n",
       "      <td>8481.0</td>\n",
       "      <td>8.797718</td>\n",
       "      <td>0</td>\n",
       "      <td>1861.0</td>\n",
       "      <td>232.62</td>\n",
       "      <td>88.0</td>\n",
       "      <td>0.0</td>\n",
       "      <td>0.0</td>\n",
       "      <td>0.0</td>\n",
       "      <td>0.672199</td>\n",
       "      <td>0.378299</td>\n",
       "      <td>1060.125000</td>\n",
       "    </tr>\n",
       "    <tr>\n",
       "      <th>3</th>\n",
       "      <td>1</td>\n",
       "      <td>1.00</td>\n",
       "      <td>1</td>\n",
       "      <td>1.0</td>\n",
       "      <td>1.000000</td>\n",
       "      <td>1</td>\n",
       "      <td>9.0</td>\n",
       "      <td>1.00</td>\n",
       "      <td>1.0</td>\n",
       "      <td>1.0</td>\n",
       "      <td>50.0</td>\n",
       "      <td>50.0</td>\n",
       "      <td>1.000000</td>\n",
       "      <td>1.000000</td>\n",
       "      <td>1.000000</td>\n",
       "    </tr>\n",
       "    <tr>\n",
       "      <th>4</th>\n",
       "      <td>2</td>\n",
       "      <td>2.00</td>\n",
       "      <td>2</td>\n",
       "      <td>55.0</td>\n",
       "      <td>27.500000</td>\n",
       "      <td>1</td>\n",
       "      <td>1.0</td>\n",
       "      <td>1.00</td>\n",
       "      <td>1.0</td>\n",
       "      <td>0.0</td>\n",
       "      <td>0.0</td>\n",
       "      <td>0.0</td>\n",
       "      <td>1.000000</td>\n",
       "      <td>1.000000</td>\n",
       "      <td>55.000000</td>\n",
       "    </tr>\n",
       "    <tr>\n",
       "      <th>...</th>\n",
       "      <td>...</td>\n",
       "      <td>...</td>\n",
       "      <td>...</td>\n",
       "      <td>...</td>\n",
       "      <td>...</td>\n",
       "      <td>...</td>\n",
       "      <td>...</td>\n",
       "      <td>...</td>\n",
       "      <td>...</td>\n",
       "      <td>...</td>\n",
       "      <td>...</td>\n",
       "      <td>...</td>\n",
       "      <td>...</td>\n",
       "      <td>...</td>\n",
       "      <td>...</td>\n",
       "    </tr>\n",
       "    <tr>\n",
       "      <th>601</th>\n",
       "      <td>1643</td>\n",
       "      <td>273.83</td>\n",
       "      <td>327</td>\n",
       "      <td>22724.0</td>\n",
       "      <td>13.830797</td>\n",
       "      <td>1</td>\n",
       "      <td>6010.0</td>\n",
       "      <td>601.00</td>\n",
       "      <td>438.0</td>\n",
       "      <td>0.0</td>\n",
       "      <td>0.0</td>\n",
       "      <td>0.0</td>\n",
       "      <td>1.194172</td>\n",
       "      <td>0.728785</td>\n",
       "      <td>3787.287231</td>\n",
       "    </tr>\n",
       "    <tr>\n",
       "      <th>602</th>\n",
       "      <td>261</td>\n",
       "      <td>52.20</td>\n",
       "      <td>100</td>\n",
       "      <td>5822.0</td>\n",
       "      <td>22.306513</td>\n",
       "      <td>0</td>\n",
       "      <td>1848.0</td>\n",
       "      <td>115.50</td>\n",
       "      <td>201.0</td>\n",
       "      <td>4.0</td>\n",
       "      <td>100.0</td>\n",
       "      <td>25.0</td>\n",
       "      <td>1.915709</td>\n",
       "      <td>1.740260</td>\n",
       "      <td>1164.400000</td>\n",
       "    </tr>\n",
       "    <tr>\n",
       "      <th>603</th>\n",
       "      <td>167</td>\n",
       "      <td>20.88</td>\n",
       "      <td>2</td>\n",
       "      <td>1573.0</td>\n",
       "      <td>9.419162</td>\n",
       "      <td>0</td>\n",
       "      <td>3061.0</td>\n",
       "      <td>161.11</td>\n",
       "      <td>5.0</td>\n",
       "      <td>5.0</td>\n",
       "      <td>760.0</td>\n",
       "      <td>152.0</td>\n",
       "      <td>0.095785</td>\n",
       "      <td>0.031035</td>\n",
       "      <td>196.672096</td>\n",
       "    </tr>\n",
       "    <tr>\n",
       "      <th>604</th>\n",
       "      <td>83</td>\n",
       "      <td>83.00</td>\n",
       "      <td>83</td>\n",
       "      <td>615.0</td>\n",
       "      <td>7.409639</td>\n",
       "      <td>0</td>\n",
       "      <td>0.0</td>\n",
       "      <td>0.00</td>\n",
       "      <td>0.0</td>\n",
       "      <td>0.0</td>\n",
       "      <td>0.0</td>\n",
       "      <td>0.0</td>\n",
       "      <td>1.000000</td>\n",
       "      <td>NaN</td>\n",
       "      <td>615.000000</td>\n",
       "    </tr>\n",
       "    <tr>\n",
       "      <th>605</th>\n",
       "      <td>966</td>\n",
       "      <td>120.75</td>\n",
       "      <td>105</td>\n",
       "      <td>15950.0</td>\n",
       "      <td>16.511387</td>\n",
       "      <td>0</td>\n",
       "      <td>6528.0</td>\n",
       "      <td>326.40</td>\n",
       "      <td>186.0</td>\n",
       "      <td>8.0</td>\n",
       "      <td>110.0</td>\n",
       "      <td>13.8</td>\n",
       "      <td>0.869565</td>\n",
       "      <td>0.569853</td>\n",
       "      <td>1993.750000</td>\n",
       "    </tr>\n",
       "  </tbody>\n",
       "</table>\n",
       "<p>606 rows × 15 columns</p>\n",
       "</div>"
      ],
      "text/plain": [
       "     celeb_chat_count  avg_celeb_chat  last_week_celeb_chat_count  \\\n",
       "0                   7            7.00                           7   \n",
       "1                   4            4.00                           4   \n",
       "2                 964          120.50                          81   \n",
       "3                   1            1.00                           1   \n",
       "4                   2            2.00                           2   \n",
       "..                ...             ...                         ...   \n",
       "601              1643          273.83                         327   \n",
       "602               261           52.20                         100   \n",
       "603               167           20.88                           2   \n",
       "604                83           83.00                          83   \n",
       "605               966          120.75                         105   \n",
       "\n",
       "     celeb_chat_length  celeb_chat_avg_len  churn  fan_chat_count  \\\n",
       "0                 57.0            8.142857      1             0.0   \n",
       "1                108.0           27.000000      1             0.0   \n",
       "2               8481.0            8.797718      0          1861.0   \n",
       "3                  1.0            1.000000      1             9.0   \n",
       "4                 55.0           27.500000      1             1.0   \n",
       "..                 ...                 ...    ...             ...   \n",
       "601            22724.0           13.830797      1          6010.0   \n",
       "602             5822.0           22.306513      0          1848.0   \n",
       "603             1573.0            9.419162      0          3061.0   \n",
       "604              615.0            7.409639      0             0.0   \n",
       "605            15950.0           16.511387      0          6528.0   \n",
       "\n",
       "     avg_fan_chat  last_week_fan_chat_count  sticker_count  \\\n",
       "0            0.00                       0.0            0.0   \n",
       "1            0.00                       0.0            0.0   \n",
       "2          232.62                      88.0            0.0   \n",
       "3            1.00                       1.0            1.0   \n",
       "4            1.00                       1.0            0.0   \n",
       "..            ...                       ...            ...   \n",
       "601        601.00                     438.0            0.0   \n",
       "602        115.50                     201.0            4.0   \n",
       "603        161.11                       5.0            5.0   \n",
       "604          0.00                       0.0            0.0   \n",
       "605        326.40                     186.0            8.0   \n",
       "\n",
       "     Total_sticker_sales  avg_sticker_price  celeb_last_week_chat_rate  \\\n",
       "0                    0.0                0.0                   1.000000   \n",
       "1                    0.0                0.0                   1.000000   \n",
       "2                    0.0                0.0                   0.672199   \n",
       "3                   50.0               50.0                   1.000000   \n",
       "4                    0.0                0.0                   1.000000   \n",
       "..                   ...                ...                        ...   \n",
       "601                  0.0                0.0                   1.194172   \n",
       "602                100.0               25.0                   1.915709   \n",
       "603                760.0              152.0                   0.095785   \n",
       "604                  0.0                0.0                   1.000000   \n",
       "605                110.0               13.8                   0.869565   \n",
       "\n",
       "     fan_last_week_chat_rate  celeb_chat_len/week  \n",
       "0                        NaN            57.000000  \n",
       "1                        NaN           108.000000  \n",
       "2                   0.378299          1060.125000  \n",
       "3                   1.000000             1.000000  \n",
       "4                   1.000000            55.000000  \n",
       "..                       ...                  ...  \n",
       "601                 0.728785          3787.287231  \n",
       "602                 1.740260          1164.400000  \n",
       "603                 0.031035           196.672096  \n",
       "604                      NaN           615.000000  \n",
       "605                 0.569853          1993.750000  \n",
       "\n",
       "[606 rows x 15 columns]"
      ]
     },
     "execution_count": 229,
     "metadata": {},
     "output_type": "execute_result"
    }
   ],
   "source": [
    "#셀럽과 팬의 [최근 일주일 채팅 수 / 주 평균 채팅수] 비율 컬럼을 추가\n",
    "df_ml['celeb_last_week_chat_rate'] = df_ml['last_week_celeb_chat_count'] / df_ml['avg_celeb_chat']\n",
    "df_ml['fan_last_week_chat_rate'] = df_ml['last_week_fan_chat_count'] / df_ml['avg_fan_chat']\n",
    "\n",
    "#셀럽의 주간 평균 채팅길이 컬럼을 추가  \n",
    "df_ml['celeb_chat_len/week'] = df_ml['celeb_chat_avg_len'] * df_ml['avg_celeb_chat']\n",
    "df_ml"
   ]
  },
  {
   "attachments": {},
   "cell_type": "markdown",
   "metadata": {},
   "source": [
    "총 14개의 특징과 1개의 타겟으로 구성된 데이터프레임"
   ]
  },
  {
   "cell_type": "code",
   "execution_count": 230,
   "metadata": {},
   "outputs": [
    {
     "data": {
      "text/plain": [
       "celeb_chat_count                0\n",
       "avg_celeb_chat                  0\n",
       "last_week_celeb_chat_count      0\n",
       "celeb_chat_length               0\n",
       "celeb_chat_avg_len              0\n",
       "churn                           0\n",
       "fan_chat_count                  0\n",
       "avg_fan_chat                    0\n",
       "last_week_fan_chat_count        0\n",
       "sticker_count                   0\n",
       "Total_sticker_sales             0\n",
       "avg_sticker_price               0\n",
       "celeb_last_week_chat_rate       0\n",
       "fan_last_week_chat_rate       136\n",
       "celeb_chat_len/week             0\n",
       "dtype: int64"
      ]
     },
     "execution_count": 230,
     "metadata": {},
     "output_type": "execute_result"
    }
   ],
   "source": [
    "#결측치 확인\n",
    "df_ml.isna().sum()"
   ]
  },
  {
   "cell_type": "code",
   "execution_count": 231,
   "metadata": {},
   "outputs": [],
   "source": [
    "# 팬 채팅기록이 없으므로 0으로 결측값 대치\n",
    "df_ml = df_ml.fillna(0)"
   ]
  },
  {
   "cell_type": "code",
   "execution_count": 232,
   "metadata": {},
   "outputs": [],
   "source": [
    "# 데이터의 크기가 작으므로, 따로 학습세트, 검증세트를 나누지 않고 모든데이터를 이용해 학습한다\n",
    "# 타겟과 데이터 분리\n",
    "target = 'churn'\n",
    "\n",
    "X, y = df_ml.drop(columns=target), df_fansim[target]"
   ]
  },
  {
   "cell_type": "code",
   "execution_count": 233,
   "metadata": {},
   "outputs": [
    {
     "data": {
      "text/plain": [
       "1    381\n",
       "0    225\n",
       "Name: churn, dtype: int64"
      ]
     },
     "execution_count": 233,
     "metadata": {},
     "output_type": "execute_result"
    }
   ],
   "source": [
    "# 타겟 분포 확인\n",
    "y.value_counts()"
   ]
  },
  {
   "attachments": {},
   "cell_type": "markdown",
   "metadata": {},
   "source": [
    "### 모델 학습"
   ]
  },
  {
   "attachments": {},
   "cell_type": "markdown",
   "metadata": {},
   "source": [
    "타겟이 0/1로 분류되어있으므로 분류모델을 학습하여 모델을 해석한다."
   ]
  },
  {
   "attachments": {},
   "cell_type": "markdown",
   "metadata": {},
   "source": [
    "타겟의 분포가 6:4정도로 적당한 균형을 보이고 있으므로 정확도(accuracy)를 주요 지표로 사용한다."
   ]
  },
  {
   "cell_type": "code",
   "execution_count": 234,
   "metadata": {},
   "outputs": [],
   "source": [
    "from sklearn.metrics import accuracy_score, recall_score, precision_score, f1_score, roc_curve, roc_auc_score\n",
    "\n",
    "def eval_models(y_pred, y_pred_proba, y_real=y) :\n",
    "    accuracy = accuracy_score(y_real, y_pred)\n",
    "    precision = precision_score(y_real, y_pred)\n",
    "    recall = recall_score(y_real, y_pred)\n",
    "    f1 = f1_score(y_real, y_pred)\n",
    "    auc = roc_auc_score(y, y_pred_proba)\n",
    "\n",
    "    print(f'accuracy : {accuracy.round(2)}')\n",
    "    print(f'precision : {precision.round(2)}')\n",
    "    print(f'recall : {recall.round(2)}')\n",
    "    print(f'f1 : {f1.round(2)}')\n",
    "    print(f\"auc score : {auc.round(3)}\")\n",
    "\n",
    "    return accuracy, precision, recall, f1, auc"
   ]
  },
  {
   "attachments": {},
   "cell_type": "markdown",
   "metadata": {},
   "source": [
    "baseline 모델"
   ]
  },
  {
   "cell_type": "code",
   "execution_count": 235,
   "metadata": {},
   "outputs": [
    {
     "name": "stdout",
     "output_type": "stream",
     "text": [
      "accuracy : 0.63\n",
      "precision : 0.63\n",
      "recall : 1.0\n",
      "f1 : 0.77\n",
      "auc score : 0.5\n"
     ]
    },
    {
     "data": {
      "text/plain": [
       "(0.6287128712871287, 0.6287128712871287, 1.0, 0.7720364741641337, 0.5)"
      ]
     },
     "execution_count": 235,
     "metadata": {},
     "output_type": "execute_result"
    }
   ],
   "source": [
    "from sklearn.metrics import accuracy_score\n",
    "base = y.mode()[0]\n",
    "baseline = len(y) * [base]\n",
    "\n",
    "eval_models(baseline,baseline)"
   ]
  },
  {
   "attachments": {},
   "cell_type": "markdown",
   "metadata": {},
   "source": [
    "로지스틱 회귀"
   ]
  },
  {
   "cell_type": "code",
   "execution_count": 236,
   "metadata": {},
   "outputs": [
    {
     "data": {
      "text/html": [
       "<style>#sk-container-id-19 {color: black;background-color: white;}#sk-container-id-19 pre{padding: 0;}#sk-container-id-19 div.sk-toggleable {background-color: white;}#sk-container-id-19 label.sk-toggleable__label {cursor: pointer;display: block;width: 100%;margin-bottom: 0;padding: 0.3em;box-sizing: border-box;text-align: center;}#sk-container-id-19 label.sk-toggleable__label-arrow:before {content: \"▸\";float: left;margin-right: 0.25em;color: #696969;}#sk-container-id-19 label.sk-toggleable__label-arrow:hover:before {color: black;}#sk-container-id-19 div.sk-estimator:hover label.sk-toggleable__label-arrow:before {color: black;}#sk-container-id-19 div.sk-toggleable__content {max-height: 0;max-width: 0;overflow: hidden;text-align: left;background-color: #f0f8ff;}#sk-container-id-19 div.sk-toggleable__content pre {margin: 0.2em;color: black;border-radius: 0.25em;background-color: #f0f8ff;}#sk-container-id-19 input.sk-toggleable__control:checked~div.sk-toggleable__content {max-height: 200px;max-width: 100%;overflow: auto;}#sk-container-id-19 input.sk-toggleable__control:checked~label.sk-toggleable__label-arrow:before {content: \"▾\";}#sk-container-id-19 div.sk-estimator input.sk-toggleable__control:checked~label.sk-toggleable__label {background-color: #d4ebff;}#sk-container-id-19 div.sk-label input.sk-toggleable__control:checked~label.sk-toggleable__label {background-color: #d4ebff;}#sk-container-id-19 input.sk-hidden--visually {border: 0;clip: rect(1px 1px 1px 1px);clip: rect(1px, 1px, 1px, 1px);height: 1px;margin: -1px;overflow: hidden;padding: 0;position: absolute;width: 1px;}#sk-container-id-19 div.sk-estimator {font-family: monospace;background-color: #f0f8ff;border: 1px dotted black;border-radius: 0.25em;box-sizing: border-box;margin-bottom: 0.5em;}#sk-container-id-19 div.sk-estimator:hover {background-color: #d4ebff;}#sk-container-id-19 div.sk-parallel-item::after {content: \"\";width: 100%;border-bottom: 1px solid gray;flex-grow: 1;}#sk-container-id-19 div.sk-label:hover label.sk-toggleable__label {background-color: #d4ebff;}#sk-container-id-19 div.sk-serial::before {content: \"\";position: absolute;border-left: 1px solid gray;box-sizing: border-box;top: 0;bottom: 0;left: 50%;z-index: 0;}#sk-container-id-19 div.sk-serial {display: flex;flex-direction: column;align-items: center;background-color: white;padding-right: 0.2em;padding-left: 0.2em;position: relative;}#sk-container-id-19 div.sk-item {position: relative;z-index: 1;}#sk-container-id-19 div.sk-parallel {display: flex;align-items: stretch;justify-content: center;background-color: white;position: relative;}#sk-container-id-19 div.sk-item::before, #sk-container-id-19 div.sk-parallel-item::before {content: \"\";position: absolute;border-left: 1px solid gray;box-sizing: border-box;top: 0;bottom: 0;left: 50%;z-index: -1;}#sk-container-id-19 div.sk-parallel-item {display: flex;flex-direction: column;z-index: 1;position: relative;background-color: white;}#sk-container-id-19 div.sk-parallel-item:first-child::after {align-self: flex-end;width: 50%;}#sk-container-id-19 div.sk-parallel-item:last-child::after {align-self: flex-start;width: 50%;}#sk-container-id-19 div.sk-parallel-item:only-child::after {width: 0;}#sk-container-id-19 div.sk-dashed-wrapped {border: 1px dashed gray;margin: 0 0.4em 0.5em 0.4em;box-sizing: border-box;padding-bottom: 0.4em;background-color: white;}#sk-container-id-19 div.sk-label label {font-family: monospace;font-weight: bold;display: inline-block;line-height: 1.2em;}#sk-container-id-19 div.sk-label-container {text-align: center;}#sk-container-id-19 div.sk-container {/* jupyter's `normalize.less` sets `[hidden] { display: none; }` but bootstrap.min.css set `[hidden] { display: none !important; }` so we also need the `!important` here to be able to override the default hidden behavior on the sphinx rendered scikit-learn.org. See: https://github.com/scikit-learn/scikit-learn/issues/21755 */display: inline-block !important;position: relative;}#sk-container-id-19 div.sk-text-repr-fallback {display: none;}</style><div id=\"sk-container-id-19\" class=\"sk-top-container\"><div class=\"sk-text-repr-fallback\"><pre>LogisticRegressionCV(Cs=array([1.e-10, 1.e-09, 1.e-08, 1.e-07, 1.e-06, 1.e-05, 1.e-04, 1.e-03,\n",
       "       1.e-02, 1.e-01, 1.e+00, 1.e+01, 1.e+02, 1.e+03, 1.e+04, 1.e+05,\n",
       "       1.e+06, 1.e+07, 1.e+08, 1.e+09]),\n",
       "                     cv=5, max_iter=1000, random_state=42, scoring=&#x27;accuracy&#x27;)</pre><b>In a Jupyter environment, please rerun this cell to show the HTML representation or trust the notebook. <br />On GitHub, the HTML representation is unable to render, please try loading this page with nbviewer.org.</b></div><div class=\"sk-container\" hidden><div class=\"sk-item\"><div class=\"sk-estimator sk-toggleable\"><input class=\"sk-toggleable__control sk-hidden--visually\" id=\"sk-estimator-id-45\" type=\"checkbox\" checked><label for=\"sk-estimator-id-45\" class=\"sk-toggleable__label sk-toggleable__label-arrow\">LogisticRegressionCV</label><div class=\"sk-toggleable__content\"><pre>LogisticRegressionCV(Cs=array([1.e-10, 1.e-09, 1.e-08, 1.e-07, 1.e-06, 1.e-05, 1.e-04, 1.e-03,\n",
       "       1.e-02, 1.e-01, 1.e+00, 1.e+01, 1.e+02, 1.e+03, 1.e+04, 1.e+05,\n",
       "       1.e+06, 1.e+07, 1.e+08, 1.e+09]),\n",
       "                     cv=5, max_iter=1000, random_state=42, scoring=&#x27;accuracy&#x27;)</pre></div></div></div></div></div>"
      ],
      "text/plain": [
       "LogisticRegressionCV(Cs=array([1.e-10, 1.e-09, 1.e-08, 1.e-07, 1.e-06, 1.e-05, 1.e-04, 1.e-03,\n",
       "       1.e-02, 1.e-01, 1.e+00, 1.e+01, 1.e+02, 1.e+03, 1.e+04, 1.e+05,\n",
       "       1.e+06, 1.e+07, 1.e+08, 1.e+09]),\n",
       "                     cv=5, max_iter=1000, random_state=42, scoring='accuracy')"
      ]
     },
     "execution_count": 236,
     "metadata": {},
     "output_type": "execute_result"
    }
   ],
   "source": [
    "#로지스틱 회귀\n",
    "from sklearn.preprocessing import StandardScaler\n",
    "from sklearn.linear_model import LogisticRegression, LogisticRegressionCV\n",
    "from sklearn.model_selection import cross_val_score\n",
    "import numpy as np\n",
    "\n",
    "scaler = StandardScaler()\n",
    "X_scaled = scaler.fit_transform(X)\n",
    "\n",
    "\n",
    "Cs = np.power(10.0, np.arange(-10, 10))\n",
    "\n",
    "lr_model = LogisticRegressionCV(Cs=Cs, cv=5, max_iter=1000, scoring=\"accuracy\", random_state=42)\n",
    "lr_model.fit(X_scaled, y)"
   ]
  },
  {
   "cell_type": "code",
   "execution_count": 237,
   "metadata": {},
   "outputs": [
    {
     "name": "stdout",
     "output_type": "stream",
     "text": [
      "accuracy : 0.78\n",
      "precision : 0.76\n",
      "recall : 0.96\n",
      "f1 : 0.85\n",
      "auc score : 0.815\n"
     ]
    },
    {
     "data": {
      "text/plain": [
       "(0.7805280528052805,\n",
       " 0.7583333333333333,\n",
       " 0.9553805774278216,\n",
       " 0.845528455284553,\n",
       " 0.8154155730533684)"
      ]
     },
     "execution_count": 237,
     "metadata": {},
     "output_type": "execute_result"
    }
   ],
   "source": [
    "y_pred_lr = lr_model.predict(X_scaled)\n",
    "y_pred_proba_lr = lr_model.predict_proba(X_scaled)[:,1]\n",
    "eval_models(y_pred_lr,y_pred_proba_lr)"
   ]
  },
  {
   "attachments": {},
   "cell_type": "markdown",
   "metadata": {},
   "source": [
    "랜덤 포레스트"
   ]
  },
  {
   "cell_type": "code",
   "execution_count": 238,
   "metadata": {},
   "outputs": [],
   "source": [
    "params = {'max_depth': np.arange(3, 15, 2),\n",
    "               'min_samples_split': [2, 4, 8, 16],\n",
    "               'min_samples_leaf': [1, 2, 4]\n",
    "               }"
   ]
  },
  {
   "cell_type": "code",
   "execution_count": 239,
   "metadata": {},
   "outputs": [
    {
     "name": "stdout",
     "output_type": "stream",
     "text": [
      "Fitting 5 folds for each of 10 candidates, totalling 50 fits\n",
      "[CV 1/5] END max_depth=3, min_samples_leaf=2, min_samples_split=2;, score=0.861 total time=   0.1s\n",
      "[CV 2/5] END max_depth=3, min_samples_leaf=2, min_samples_split=2;, score=0.793 total time=   0.1s\n",
      "[CV 3/5] END max_depth=3, min_samples_leaf=2, min_samples_split=2;, score=0.760 total time=   0.1s\n",
      "[CV 4/5] END max_depth=3, min_samples_leaf=2, min_samples_split=2;, score=0.818 total time=   0.1s\n",
      "[CV 5/5] END max_depth=3, min_samples_leaf=2, min_samples_split=2;, score=0.760 total time=   0.1s\n",
      "[CV 1/5] END max_depth=13, min_samples_leaf=1, min_samples_split=8;, score=0.852 total time=   0.1s\n",
      "[CV 2/5] END max_depth=13, min_samples_leaf=1, min_samples_split=8;, score=0.802 total time=   0.1s\n",
      "[CV 3/5] END max_depth=13, min_samples_leaf=1, min_samples_split=8;, score=0.777 total time=   0.1s\n",
      "[CV 4/5] END max_depth=13, min_samples_leaf=1, min_samples_split=8;, score=0.818 total time=   0.1s\n",
      "[CV 5/5] END max_depth=13, min_samples_leaf=1, min_samples_split=8;, score=0.777 total time=   0.1s\n",
      "[CV 1/5] END max_depth=5, min_samples_leaf=2, min_samples_split=8;, score=0.861 total time=   0.1s\n",
      "[CV 2/5] END max_depth=5, min_samples_leaf=2, min_samples_split=8;, score=0.802 total time=   0.1s\n",
      "[CV 3/5] END max_depth=5, min_samples_leaf=2, min_samples_split=8;, score=0.752 total time=   0.1s\n",
      "[CV 4/5] END max_depth=5, min_samples_leaf=2, min_samples_split=8;, score=0.826 total time=   0.1s\n",
      "[CV 5/5] END max_depth=5, min_samples_leaf=2, min_samples_split=8;, score=0.785 total time=   0.1s\n",
      "[CV 1/5] END max_depth=3, min_samples_leaf=1, min_samples_split=2;, score=0.861 total time=   0.1s\n",
      "[CV 2/5] END max_depth=3, min_samples_leaf=1, min_samples_split=2;, score=0.785 total time=   0.1s\n",
      "[CV 3/5] END max_depth=3, min_samples_leaf=1, min_samples_split=2;, score=0.760 total time=   0.1s\n",
      "[CV 4/5] END max_depth=3, min_samples_leaf=1, min_samples_split=2;, score=0.826 total time=   0.1s\n",
      "[CV 5/5] END max_depth=3, min_samples_leaf=1, min_samples_split=2;, score=0.760 total time=   0.1s\n",
      "[CV 1/5] END max_depth=7, min_samples_leaf=2, min_samples_split=2;, score=0.869 total time=   0.1s\n",
      "[CV 2/5] END max_depth=7, min_samples_leaf=2, min_samples_split=2;, score=0.818 total time=   0.1s\n",
      "[CV 3/5] END max_depth=7, min_samples_leaf=2, min_samples_split=2;, score=0.769 total time=   0.1s\n",
      "[CV 4/5] END max_depth=7, min_samples_leaf=2, min_samples_split=2;, score=0.818 total time=   0.1s\n",
      "[CV 5/5] END max_depth=7, min_samples_leaf=2, min_samples_split=2;, score=0.777 total time=   0.1s\n",
      "[CV 1/5] END max_depth=11, min_samples_leaf=1, min_samples_split=8;, score=0.861 total time=   0.1s\n",
      "[CV 2/5] END max_depth=11, min_samples_leaf=1, min_samples_split=8;, score=0.777 total time=   0.1s\n",
      "[CV 3/5] END max_depth=11, min_samples_leaf=1, min_samples_split=8;, score=0.777 total time=   0.1s\n",
      "[CV 4/5] END max_depth=11, min_samples_leaf=1, min_samples_split=8;, score=0.826 total time=   0.1s\n",
      "[CV 5/5] END max_depth=11, min_samples_leaf=1, min_samples_split=8;, score=0.777 total time=   0.1s\n",
      "[CV 1/5] END max_depth=3, min_samples_leaf=4, min_samples_split=8;, score=0.869 total time=   0.1s\n",
      "[CV 2/5] END max_depth=3, min_samples_leaf=4, min_samples_split=8;, score=0.793 total time=   0.1s\n",
      "[CV 3/5] END max_depth=3, min_samples_leaf=4, min_samples_split=8;, score=0.760 total time=   0.1s\n",
      "[CV 4/5] END max_depth=3, min_samples_leaf=4, min_samples_split=8;, score=0.810 total time=   0.1s\n",
      "[CV 5/5] END max_depth=3, min_samples_leaf=4, min_samples_split=8;, score=0.760 total time=   0.1s\n",
      "[CV 1/5] END max_depth=7, min_samples_leaf=4, min_samples_split=8;, score=0.861 total time=   0.1s\n",
      "[CV 2/5] END max_depth=7, min_samples_leaf=4, min_samples_split=8;, score=0.818 total time=   0.1s\n",
      "[CV 3/5] END max_depth=7, min_samples_leaf=4, min_samples_split=8;, score=0.769 total time=   0.1s\n",
      "[CV 4/5] END max_depth=7, min_samples_leaf=4, min_samples_split=8;, score=0.826 total time=   0.1s\n",
      "[CV 5/5] END max_depth=7, min_samples_leaf=4, min_samples_split=8;, score=0.785 total time=   0.1s\n",
      "[CV 1/5] END max_depth=5, min_samples_leaf=1, min_samples_split=2;, score=0.861 total time=   0.1s\n",
      "[CV 2/5] END max_depth=5, min_samples_leaf=1, min_samples_split=2;, score=0.793 total time=   0.1s\n",
      "[CV 3/5] END max_depth=5, min_samples_leaf=1, min_samples_split=2;, score=0.752 total time=   0.1s\n",
      "[CV 4/5] END max_depth=5, min_samples_leaf=1, min_samples_split=2;, score=0.818 total time=   0.1s\n",
      "[CV 5/5] END max_depth=5, min_samples_leaf=1, min_samples_split=2;, score=0.769 total time=   0.1s\n",
      "[CV 1/5] END max_depth=11, min_samples_leaf=2, min_samples_split=8;, score=0.844 total time=   0.1s\n",
      "[CV 2/5] END max_depth=11, min_samples_leaf=2, min_samples_split=8;, score=0.802 total time=   0.2s\n",
      "[CV 3/5] END max_depth=11, min_samples_leaf=2, min_samples_split=8;, score=0.760 total time=   0.1s\n",
      "[CV 4/5] END max_depth=11, min_samples_leaf=2, min_samples_split=8;, score=0.835 total time=   0.1s\n",
      "[CV 5/5] END max_depth=11, min_samples_leaf=2, min_samples_split=8;, score=0.785 total time=   0.1s\n"
     ]
    },
    {
     "data": {
      "text/html": [
       "<style>#sk-container-id-20 {color: black;background-color: white;}#sk-container-id-20 pre{padding: 0;}#sk-container-id-20 div.sk-toggleable {background-color: white;}#sk-container-id-20 label.sk-toggleable__label {cursor: pointer;display: block;width: 100%;margin-bottom: 0;padding: 0.3em;box-sizing: border-box;text-align: center;}#sk-container-id-20 label.sk-toggleable__label-arrow:before {content: \"▸\";float: left;margin-right: 0.25em;color: #696969;}#sk-container-id-20 label.sk-toggleable__label-arrow:hover:before {color: black;}#sk-container-id-20 div.sk-estimator:hover label.sk-toggleable__label-arrow:before {color: black;}#sk-container-id-20 div.sk-toggleable__content {max-height: 0;max-width: 0;overflow: hidden;text-align: left;background-color: #f0f8ff;}#sk-container-id-20 div.sk-toggleable__content pre {margin: 0.2em;color: black;border-radius: 0.25em;background-color: #f0f8ff;}#sk-container-id-20 input.sk-toggleable__control:checked~div.sk-toggleable__content {max-height: 200px;max-width: 100%;overflow: auto;}#sk-container-id-20 input.sk-toggleable__control:checked~label.sk-toggleable__label-arrow:before {content: \"▾\";}#sk-container-id-20 div.sk-estimator input.sk-toggleable__control:checked~label.sk-toggleable__label {background-color: #d4ebff;}#sk-container-id-20 div.sk-label input.sk-toggleable__control:checked~label.sk-toggleable__label {background-color: #d4ebff;}#sk-container-id-20 input.sk-hidden--visually {border: 0;clip: rect(1px 1px 1px 1px);clip: rect(1px, 1px, 1px, 1px);height: 1px;margin: -1px;overflow: hidden;padding: 0;position: absolute;width: 1px;}#sk-container-id-20 div.sk-estimator {font-family: monospace;background-color: #f0f8ff;border: 1px dotted black;border-radius: 0.25em;box-sizing: border-box;margin-bottom: 0.5em;}#sk-container-id-20 div.sk-estimator:hover {background-color: #d4ebff;}#sk-container-id-20 div.sk-parallel-item::after {content: \"\";width: 100%;border-bottom: 1px solid gray;flex-grow: 1;}#sk-container-id-20 div.sk-label:hover label.sk-toggleable__label {background-color: #d4ebff;}#sk-container-id-20 div.sk-serial::before {content: \"\";position: absolute;border-left: 1px solid gray;box-sizing: border-box;top: 0;bottom: 0;left: 50%;z-index: 0;}#sk-container-id-20 div.sk-serial {display: flex;flex-direction: column;align-items: center;background-color: white;padding-right: 0.2em;padding-left: 0.2em;position: relative;}#sk-container-id-20 div.sk-item {position: relative;z-index: 1;}#sk-container-id-20 div.sk-parallel {display: flex;align-items: stretch;justify-content: center;background-color: white;position: relative;}#sk-container-id-20 div.sk-item::before, #sk-container-id-20 div.sk-parallel-item::before {content: \"\";position: absolute;border-left: 1px solid gray;box-sizing: border-box;top: 0;bottom: 0;left: 50%;z-index: -1;}#sk-container-id-20 div.sk-parallel-item {display: flex;flex-direction: column;z-index: 1;position: relative;background-color: white;}#sk-container-id-20 div.sk-parallel-item:first-child::after {align-self: flex-end;width: 50%;}#sk-container-id-20 div.sk-parallel-item:last-child::after {align-self: flex-start;width: 50%;}#sk-container-id-20 div.sk-parallel-item:only-child::after {width: 0;}#sk-container-id-20 div.sk-dashed-wrapped {border: 1px dashed gray;margin: 0 0.4em 0.5em 0.4em;box-sizing: border-box;padding-bottom: 0.4em;background-color: white;}#sk-container-id-20 div.sk-label label {font-family: monospace;font-weight: bold;display: inline-block;line-height: 1.2em;}#sk-container-id-20 div.sk-label-container {text-align: center;}#sk-container-id-20 div.sk-container {/* jupyter's `normalize.less` sets `[hidden] { display: none; }` but bootstrap.min.css set `[hidden] { display: none !important; }` so we also need the `!important` here to be able to override the default hidden behavior on the sphinx rendered scikit-learn.org. See: https://github.com/scikit-learn/scikit-learn/issues/21755 */display: inline-block !important;position: relative;}#sk-container-id-20 div.sk-text-repr-fallback {display: none;}</style><div id=\"sk-container-id-20\" class=\"sk-top-container\"><div class=\"sk-text-repr-fallback\"><pre>RandomizedSearchCV(cv=5, estimator=RandomForestClassifier(random_state=42),\n",
       "                   param_distributions={&#x27;max_depth&#x27;: array([ 3,  5,  7,  9, 11, 13]),\n",
       "                                        &#x27;min_samples_leaf&#x27;: [1, 2, 4],\n",
       "                                        &#x27;min_samples_split&#x27;: [2, 4, 8, 16]},\n",
       "                   random_state=42, scoring=&#x27;accuracy&#x27;, verbose=3)</pre><b>In a Jupyter environment, please rerun this cell to show the HTML representation or trust the notebook. <br />On GitHub, the HTML representation is unable to render, please try loading this page with nbviewer.org.</b></div><div class=\"sk-container\" hidden><div class=\"sk-item sk-dashed-wrapped\"><div class=\"sk-label-container\"><div class=\"sk-label sk-toggleable\"><input class=\"sk-toggleable__control sk-hidden--visually\" id=\"sk-estimator-id-46\" type=\"checkbox\" ><label for=\"sk-estimator-id-46\" class=\"sk-toggleable__label sk-toggleable__label-arrow\">RandomizedSearchCV</label><div class=\"sk-toggleable__content\"><pre>RandomizedSearchCV(cv=5, estimator=RandomForestClassifier(random_state=42),\n",
       "                   param_distributions={&#x27;max_depth&#x27;: array([ 3,  5,  7,  9, 11, 13]),\n",
       "                                        &#x27;min_samples_leaf&#x27;: [1, 2, 4],\n",
       "                                        &#x27;min_samples_split&#x27;: [2, 4, 8, 16]},\n",
       "                   random_state=42, scoring=&#x27;accuracy&#x27;, verbose=3)</pre></div></div></div><div class=\"sk-parallel\"><div class=\"sk-parallel-item\"><div class=\"sk-item\"><div class=\"sk-label-container\"><div class=\"sk-label sk-toggleable\"><input class=\"sk-toggleable__control sk-hidden--visually\" id=\"sk-estimator-id-47\" type=\"checkbox\" ><label for=\"sk-estimator-id-47\" class=\"sk-toggleable__label sk-toggleable__label-arrow\">estimator: RandomForestClassifier</label><div class=\"sk-toggleable__content\"><pre>RandomForestClassifier(random_state=42)</pre></div></div></div><div class=\"sk-serial\"><div class=\"sk-item\"><div class=\"sk-estimator sk-toggleable\"><input class=\"sk-toggleable__control sk-hidden--visually\" id=\"sk-estimator-id-48\" type=\"checkbox\" ><label for=\"sk-estimator-id-48\" class=\"sk-toggleable__label sk-toggleable__label-arrow\">RandomForestClassifier</label><div class=\"sk-toggleable__content\"><pre>RandomForestClassifier(random_state=42)</pre></div></div></div></div></div></div></div></div></div></div>"
      ],
      "text/plain": [
       "RandomizedSearchCV(cv=5, estimator=RandomForestClassifier(random_state=42),\n",
       "                   param_distributions={'max_depth': array([ 3,  5,  7,  9, 11, 13]),\n",
       "                                        'min_samples_leaf': [1, 2, 4],\n",
       "                                        'min_samples_split': [2, 4, 8, 16]},\n",
       "                   random_state=42, scoring='accuracy', verbose=3)"
      ]
     },
     "execution_count": 239,
     "metadata": {},
     "output_type": "execute_result"
    }
   ],
   "source": [
    "#랜덤 포레스트\n",
    "from sklearn.ensemble import RandomForestClassifier\n",
    "from sklearn.model_selection import RandomizedSearchCV\n",
    "\n",
    "rf_model  = RandomForestClassifier(random_state=42)\n",
    "rf_search = RandomizedSearchCV(rf_model, param_distributions = params, scoring=\"accuracy\", n_iter = 10, cv = 5, verbose=3, random_state=42)\n",
    "rf_search.fit(X,y)"
   ]
  },
  {
   "cell_type": "code",
   "execution_count": 240,
   "metadata": {},
   "outputs": [
    {
     "data": {
      "text/plain": [
       "{'min_samples_split': 8, 'min_samples_leaf': 4, 'max_depth': 7}"
      ]
     },
     "execution_count": 240,
     "metadata": {},
     "output_type": "execute_result"
    }
   ],
   "source": [
    "rf_search.best_params_"
   ]
  },
  {
   "cell_type": "code",
   "execution_count": 241,
   "metadata": {},
   "outputs": [
    {
     "name": "stdout",
     "output_type": "stream",
     "text": [
      "accuracy : 0.9\n",
      "precision : 0.9\n",
      "recall : 0.96\n",
      "f1 : 0.93\n",
      "auc score : 0.966\n"
     ]
    },
    {
     "data": {
      "text/plain": [
       "(0.9026402640264026,\n",
       " 0.896551724137931,\n",
       " 0.9553805774278216,\n",
       " 0.9250317662007626,\n",
       " 0.9655001458151065)"
      ]
     },
     "execution_count": 241,
     "metadata": {},
     "output_type": "execute_result"
    }
   ],
   "source": [
    "y_pred_rf = rf_search.best_estimator_.predict(X)\n",
    "y_pred_proba_rf = rf_search.best_estimator_.predict_proba(X)[:,1]\n",
    "eval_models(y_pred_rf,y_pred_proba_rf)"
   ]
  },
  {
   "attachments": {},
   "cell_type": "markdown",
   "metadata": {},
   "source": [
    "xgb"
   ]
  },
  {
   "cell_type": "code",
   "execution_count": 242,
   "metadata": {},
   "outputs": [],
   "source": [
    "params = {\n",
    "    \"max_depth\": np.arange(3, 17, 2),\n",
    "    \"min_child_weight\": [2, 4, 8, 16],\n",
    "    \"n_estimators\" : np.arange(100, 800, 100),\n",
    "    \"learning_rate\" : np.arange(0.05, 0.2, 0.05)\n",
    "}"
   ]
  },
  {
   "cell_type": "code",
   "execution_count": 243,
   "metadata": {},
   "outputs": [
    {
     "name": "stdout",
     "output_type": "stream",
     "text": [
      "Fitting 5 folds for each of 10 candidates, totalling 50 fits\n"
     ]
    },
    {
     "data": {
      "text/html": [
       "<style>#sk-container-id-21 {color: black;background-color: white;}#sk-container-id-21 pre{padding: 0;}#sk-container-id-21 div.sk-toggleable {background-color: white;}#sk-container-id-21 label.sk-toggleable__label {cursor: pointer;display: block;width: 100%;margin-bottom: 0;padding: 0.3em;box-sizing: border-box;text-align: center;}#sk-container-id-21 label.sk-toggleable__label-arrow:before {content: \"▸\";float: left;margin-right: 0.25em;color: #696969;}#sk-container-id-21 label.sk-toggleable__label-arrow:hover:before {color: black;}#sk-container-id-21 div.sk-estimator:hover label.sk-toggleable__label-arrow:before {color: black;}#sk-container-id-21 div.sk-toggleable__content {max-height: 0;max-width: 0;overflow: hidden;text-align: left;background-color: #f0f8ff;}#sk-container-id-21 div.sk-toggleable__content pre {margin: 0.2em;color: black;border-radius: 0.25em;background-color: #f0f8ff;}#sk-container-id-21 input.sk-toggleable__control:checked~div.sk-toggleable__content {max-height: 200px;max-width: 100%;overflow: auto;}#sk-container-id-21 input.sk-toggleable__control:checked~label.sk-toggleable__label-arrow:before {content: \"▾\";}#sk-container-id-21 div.sk-estimator input.sk-toggleable__control:checked~label.sk-toggleable__label {background-color: #d4ebff;}#sk-container-id-21 div.sk-label input.sk-toggleable__control:checked~label.sk-toggleable__label {background-color: #d4ebff;}#sk-container-id-21 input.sk-hidden--visually {border: 0;clip: rect(1px 1px 1px 1px);clip: rect(1px, 1px, 1px, 1px);height: 1px;margin: -1px;overflow: hidden;padding: 0;position: absolute;width: 1px;}#sk-container-id-21 div.sk-estimator {font-family: monospace;background-color: #f0f8ff;border: 1px dotted black;border-radius: 0.25em;box-sizing: border-box;margin-bottom: 0.5em;}#sk-container-id-21 div.sk-estimator:hover {background-color: #d4ebff;}#sk-container-id-21 div.sk-parallel-item::after {content: \"\";width: 100%;border-bottom: 1px solid gray;flex-grow: 1;}#sk-container-id-21 div.sk-label:hover label.sk-toggleable__label {background-color: #d4ebff;}#sk-container-id-21 div.sk-serial::before {content: \"\";position: absolute;border-left: 1px solid gray;box-sizing: border-box;top: 0;bottom: 0;left: 50%;z-index: 0;}#sk-container-id-21 div.sk-serial {display: flex;flex-direction: column;align-items: center;background-color: white;padding-right: 0.2em;padding-left: 0.2em;position: relative;}#sk-container-id-21 div.sk-item {position: relative;z-index: 1;}#sk-container-id-21 div.sk-parallel {display: flex;align-items: stretch;justify-content: center;background-color: white;position: relative;}#sk-container-id-21 div.sk-item::before, #sk-container-id-21 div.sk-parallel-item::before {content: \"\";position: absolute;border-left: 1px solid gray;box-sizing: border-box;top: 0;bottom: 0;left: 50%;z-index: -1;}#sk-container-id-21 div.sk-parallel-item {display: flex;flex-direction: column;z-index: 1;position: relative;background-color: white;}#sk-container-id-21 div.sk-parallel-item:first-child::after {align-self: flex-end;width: 50%;}#sk-container-id-21 div.sk-parallel-item:last-child::after {align-self: flex-start;width: 50%;}#sk-container-id-21 div.sk-parallel-item:only-child::after {width: 0;}#sk-container-id-21 div.sk-dashed-wrapped {border: 1px dashed gray;margin: 0 0.4em 0.5em 0.4em;box-sizing: border-box;padding-bottom: 0.4em;background-color: white;}#sk-container-id-21 div.sk-label label {font-family: monospace;font-weight: bold;display: inline-block;line-height: 1.2em;}#sk-container-id-21 div.sk-label-container {text-align: center;}#sk-container-id-21 div.sk-container {/* jupyter's `normalize.less` sets `[hidden] { display: none; }` but bootstrap.min.css set `[hidden] { display: none !important; }` so we also need the `!important` here to be able to override the default hidden behavior on the sphinx rendered scikit-learn.org. See: https://github.com/scikit-learn/scikit-learn/issues/21755 */display: inline-block !important;position: relative;}#sk-container-id-21 div.sk-text-repr-fallback {display: none;}</style><div id=\"sk-container-id-21\" class=\"sk-top-container\"><div class=\"sk-text-repr-fallback\"><pre>RandomizedSearchCV(cv=5,\n",
       "                   estimator=XGBClassifier(base_score=None, booster=None,\n",
       "                                           callbacks=None,\n",
       "                                           colsample_bylevel=None,\n",
       "                                           colsample_bynode=None,\n",
       "                                           colsample_bytree=None,\n",
       "                                           early_stopping_rounds=None,\n",
       "                                           enable_categorical=False,\n",
       "                                           eval_metric=&#x27;error&#x27;,\n",
       "                                           feature_types=None, gamma=None,\n",
       "                                           gpu_id=None, grow_policy=None,\n",
       "                                           importance_type=None,\n",
       "                                           interaction_constraints=None,\n",
       "                                           learning_r...\n",
       "                                           min_child_weight=None, missing=nan,\n",
       "                                           monotone_constraints=None,\n",
       "                                           n_estimators=100, n_jobs=-1,\n",
       "                                           num_parallel_tree=None,\n",
       "                                           predictor=None, random_state=42, ...),\n",
       "                   param_distributions={&#x27;learning_rate&#x27;: array([0.05, 0.1 , 0.15, 0.2 ]),\n",
       "                                        &#x27;max_depth&#x27;: array([ 3,  5,  7,  9, 11, 13, 15]),\n",
       "                                        &#x27;min_child_weight&#x27;: [2, 4, 8, 16],\n",
       "                                        &#x27;n_estimators&#x27;: array([100, 200, 300, 400, 500, 600, 700])},\n",
       "                   random_state=42, scoring=&#x27;accuracy&#x27;, verbose=1)</pre><b>In a Jupyter environment, please rerun this cell to show the HTML representation or trust the notebook. <br />On GitHub, the HTML representation is unable to render, please try loading this page with nbviewer.org.</b></div><div class=\"sk-container\" hidden><div class=\"sk-item sk-dashed-wrapped\"><div class=\"sk-label-container\"><div class=\"sk-label sk-toggleable\"><input class=\"sk-toggleable__control sk-hidden--visually\" id=\"sk-estimator-id-49\" type=\"checkbox\" ><label for=\"sk-estimator-id-49\" class=\"sk-toggleable__label sk-toggleable__label-arrow\">RandomizedSearchCV</label><div class=\"sk-toggleable__content\"><pre>RandomizedSearchCV(cv=5,\n",
       "                   estimator=XGBClassifier(base_score=None, booster=None,\n",
       "                                           callbacks=None,\n",
       "                                           colsample_bylevel=None,\n",
       "                                           colsample_bynode=None,\n",
       "                                           colsample_bytree=None,\n",
       "                                           early_stopping_rounds=None,\n",
       "                                           enable_categorical=False,\n",
       "                                           eval_metric=&#x27;error&#x27;,\n",
       "                                           feature_types=None, gamma=None,\n",
       "                                           gpu_id=None, grow_policy=None,\n",
       "                                           importance_type=None,\n",
       "                                           interaction_constraints=None,\n",
       "                                           learning_r...\n",
       "                                           min_child_weight=None, missing=nan,\n",
       "                                           monotone_constraints=None,\n",
       "                                           n_estimators=100, n_jobs=-1,\n",
       "                                           num_parallel_tree=None,\n",
       "                                           predictor=None, random_state=42, ...),\n",
       "                   param_distributions={&#x27;learning_rate&#x27;: array([0.05, 0.1 , 0.15, 0.2 ]),\n",
       "                                        &#x27;max_depth&#x27;: array([ 3,  5,  7,  9, 11, 13, 15]),\n",
       "                                        &#x27;min_child_weight&#x27;: [2, 4, 8, 16],\n",
       "                                        &#x27;n_estimators&#x27;: array([100, 200, 300, 400, 500, 600, 700])},\n",
       "                   random_state=42, scoring=&#x27;accuracy&#x27;, verbose=1)</pre></div></div></div><div class=\"sk-parallel\"><div class=\"sk-parallel-item\"><div class=\"sk-item\"><div class=\"sk-label-container\"><div class=\"sk-label sk-toggleable\"><input class=\"sk-toggleable__control sk-hidden--visually\" id=\"sk-estimator-id-50\" type=\"checkbox\" ><label for=\"sk-estimator-id-50\" class=\"sk-toggleable__label sk-toggleable__label-arrow\">estimator: XGBClassifier</label><div class=\"sk-toggleable__content\"><pre>XGBClassifier(base_score=None, booster=None, callbacks=None,\n",
       "              colsample_bylevel=None, colsample_bynode=None,\n",
       "              colsample_bytree=None, early_stopping_rounds=None,\n",
       "              enable_categorical=False, eval_metric=&#x27;error&#x27;, feature_types=None,\n",
       "              gamma=None, gpu_id=None, grow_policy=None, importance_type=None,\n",
       "              interaction_constraints=None, learning_rate=0.1, max_bin=None,\n",
       "              max_cat_threshold=None, max_cat_to_onehot=None,\n",
       "              max_delta_step=None, max_depth=None, max_leaves=None,\n",
       "              min_child_weight=None, missing=nan, monotone_constraints=None,\n",
       "              n_estimators=100, n_jobs=-1, num_parallel_tree=None,\n",
       "              predictor=None, random_state=42, ...)</pre></div></div></div><div class=\"sk-serial\"><div class=\"sk-item\"><div class=\"sk-estimator sk-toggleable\"><input class=\"sk-toggleable__control sk-hidden--visually\" id=\"sk-estimator-id-51\" type=\"checkbox\" ><label for=\"sk-estimator-id-51\" class=\"sk-toggleable__label sk-toggleable__label-arrow\">XGBClassifier</label><div class=\"sk-toggleable__content\"><pre>XGBClassifier(base_score=None, booster=None, callbacks=None,\n",
       "              colsample_bylevel=None, colsample_bynode=None,\n",
       "              colsample_bytree=None, early_stopping_rounds=None,\n",
       "              enable_categorical=False, eval_metric=&#x27;error&#x27;, feature_types=None,\n",
       "              gamma=None, gpu_id=None, grow_policy=None, importance_type=None,\n",
       "              interaction_constraints=None, learning_rate=0.1, max_bin=None,\n",
       "              max_cat_threshold=None, max_cat_to_onehot=None,\n",
       "              max_delta_step=None, max_depth=None, max_leaves=None,\n",
       "              min_child_weight=None, missing=nan, monotone_constraints=None,\n",
       "              n_estimators=100, n_jobs=-1, num_parallel_tree=None,\n",
       "              predictor=None, random_state=42, ...)</pre></div></div></div></div></div></div></div></div></div></div>"
      ],
      "text/plain": [
       "RandomizedSearchCV(cv=5,\n",
       "                   estimator=XGBClassifier(base_score=None, booster=None,\n",
       "                                           callbacks=None,\n",
       "                                           colsample_bylevel=None,\n",
       "                                           colsample_bynode=None,\n",
       "                                           colsample_bytree=None,\n",
       "                                           early_stopping_rounds=None,\n",
       "                                           enable_categorical=False,\n",
       "                                           eval_metric='error',\n",
       "                                           feature_types=None, gamma=None,\n",
       "                                           gpu_id=None, grow_policy=None,\n",
       "                                           importance_type=None,\n",
       "                                           interaction_constraints=None,\n",
       "                                           learning_r...\n",
       "                                           min_child_weight=None, missing=nan,\n",
       "                                           monotone_constraints=None,\n",
       "                                           n_estimators=100, n_jobs=-1,\n",
       "                                           num_parallel_tree=None,\n",
       "                                           predictor=None, random_state=42, ...),\n",
       "                   param_distributions={'learning_rate': array([0.05, 0.1 , 0.15, 0.2 ]),\n",
       "                                        'max_depth': array([ 3,  5,  7,  9, 11, 13, 15]),\n",
       "                                        'min_child_weight': [2, 4, 8, 16],\n",
       "                                        'n_estimators': array([100, 200, 300, 400, 500, 600, 700])},\n",
       "                   random_state=42, scoring='accuracy', verbose=1)"
      ]
     },
     "execution_count": 243,
     "metadata": {},
     "output_type": "execute_result"
    }
   ],
   "source": [
    "#xgb\n",
    "from xgboost import XGBClassifier\n",
    "\n",
    "xgb_model = XGBClassifier(\n",
    "            objective=\"binary:logistic\",\n",
    "            eval_metric=\"error\",\n",
    "            random_state=42,\n",
    "            learning_rate=0.1,\n",
    "            n_jobs=-1,\n",
    "            )\n",
    "\n",
    "xgb_search = RandomizedSearchCV(xgb_model, param_distributions = params, scoring=\"accuracy\", n_iter = 10, cv = 5, verbose=1, random_state=42)\n",
    "xgb_search.fit(X,y)"
   ]
  },
  {
   "cell_type": "code",
   "execution_count": 244,
   "metadata": {},
   "outputs": [
    {
     "data": {
      "text/plain": [
       "{'n_estimators': 100,\n",
       " 'min_child_weight': 4,\n",
       " 'max_depth': 7,\n",
       " 'learning_rate': 0.1}"
      ]
     },
     "execution_count": 244,
     "metadata": {},
     "output_type": "execute_result"
    }
   ],
   "source": [
    "xgb_search.best_params_"
   ]
  },
  {
   "cell_type": "code",
   "execution_count": 245,
   "metadata": {},
   "outputs": [
    {
     "name": "stdout",
     "output_type": "stream",
     "text": [
      "accuracy : 0.97\n",
      "precision : 0.96\n",
      "recall : 0.98\n",
      "f1 : 0.97\n",
      "auc score : 0.993\n"
     ]
    },
    {
     "data": {
      "text/plain": [
       "(0.966996699669967,\n",
       " 0.9640102827763496,\n",
       " 0.984251968503937,\n",
       " 0.974025974025974,\n",
       " 0.992901720618256)"
      ]
     },
     "execution_count": 245,
     "metadata": {},
     "output_type": "execute_result"
    }
   ],
   "source": [
    "y_pred_xgb = xgb_search.best_estimator_.predict(X)\n",
    "y_pred_proba_xgb = xgb_search.best_estimator_.predict_proba(X)[:,1]\n",
    "eval_models(y_pred_xgb,y_pred_proba_xgb)"
   ]
  },
  {
   "attachments": {},
   "cell_type": "markdown",
   "metadata": {},
   "source": [
    "lgbm"
   ]
  },
  {
   "cell_type": "code",
   "execution_count": 246,
   "metadata": {},
   "outputs": [],
   "source": [
    "params = {\n",
    "    \"max_depth\": np.arange(3, 17, 2),\n",
    "    \"min_child_weight\": [2, 4, 8, 16],\n",
    "    \"n_estimators\" : np.arange(100, 800, 100),\n",
    "    \"learning_rate\" : np.arange(0.05, 0.2, 0.05)\n",
    "}"
   ]
  },
  {
   "cell_type": "code",
   "execution_count": 247,
   "metadata": {},
   "outputs": [
    {
     "name": "stdout",
     "output_type": "stream",
     "text": [
      "Fitting 5 folds for each of 10 candidates, totalling 50 fits\n"
     ]
    },
    {
     "data": {
      "text/html": [
       "<style>#sk-container-id-22 {color: black;background-color: white;}#sk-container-id-22 pre{padding: 0;}#sk-container-id-22 div.sk-toggleable {background-color: white;}#sk-container-id-22 label.sk-toggleable__label {cursor: pointer;display: block;width: 100%;margin-bottom: 0;padding: 0.3em;box-sizing: border-box;text-align: center;}#sk-container-id-22 label.sk-toggleable__label-arrow:before {content: \"▸\";float: left;margin-right: 0.25em;color: #696969;}#sk-container-id-22 label.sk-toggleable__label-arrow:hover:before {color: black;}#sk-container-id-22 div.sk-estimator:hover label.sk-toggleable__label-arrow:before {color: black;}#sk-container-id-22 div.sk-toggleable__content {max-height: 0;max-width: 0;overflow: hidden;text-align: left;background-color: #f0f8ff;}#sk-container-id-22 div.sk-toggleable__content pre {margin: 0.2em;color: black;border-radius: 0.25em;background-color: #f0f8ff;}#sk-container-id-22 input.sk-toggleable__control:checked~div.sk-toggleable__content {max-height: 200px;max-width: 100%;overflow: auto;}#sk-container-id-22 input.sk-toggleable__control:checked~label.sk-toggleable__label-arrow:before {content: \"▾\";}#sk-container-id-22 div.sk-estimator input.sk-toggleable__control:checked~label.sk-toggleable__label {background-color: #d4ebff;}#sk-container-id-22 div.sk-label input.sk-toggleable__control:checked~label.sk-toggleable__label {background-color: #d4ebff;}#sk-container-id-22 input.sk-hidden--visually {border: 0;clip: rect(1px 1px 1px 1px);clip: rect(1px, 1px, 1px, 1px);height: 1px;margin: -1px;overflow: hidden;padding: 0;position: absolute;width: 1px;}#sk-container-id-22 div.sk-estimator {font-family: monospace;background-color: #f0f8ff;border: 1px dotted black;border-radius: 0.25em;box-sizing: border-box;margin-bottom: 0.5em;}#sk-container-id-22 div.sk-estimator:hover {background-color: #d4ebff;}#sk-container-id-22 div.sk-parallel-item::after {content: \"\";width: 100%;border-bottom: 1px solid gray;flex-grow: 1;}#sk-container-id-22 div.sk-label:hover label.sk-toggleable__label {background-color: #d4ebff;}#sk-container-id-22 div.sk-serial::before {content: \"\";position: absolute;border-left: 1px solid gray;box-sizing: border-box;top: 0;bottom: 0;left: 50%;z-index: 0;}#sk-container-id-22 div.sk-serial {display: flex;flex-direction: column;align-items: center;background-color: white;padding-right: 0.2em;padding-left: 0.2em;position: relative;}#sk-container-id-22 div.sk-item {position: relative;z-index: 1;}#sk-container-id-22 div.sk-parallel {display: flex;align-items: stretch;justify-content: center;background-color: white;position: relative;}#sk-container-id-22 div.sk-item::before, #sk-container-id-22 div.sk-parallel-item::before {content: \"\";position: absolute;border-left: 1px solid gray;box-sizing: border-box;top: 0;bottom: 0;left: 50%;z-index: -1;}#sk-container-id-22 div.sk-parallel-item {display: flex;flex-direction: column;z-index: 1;position: relative;background-color: white;}#sk-container-id-22 div.sk-parallel-item:first-child::after {align-self: flex-end;width: 50%;}#sk-container-id-22 div.sk-parallel-item:last-child::after {align-self: flex-start;width: 50%;}#sk-container-id-22 div.sk-parallel-item:only-child::after {width: 0;}#sk-container-id-22 div.sk-dashed-wrapped {border: 1px dashed gray;margin: 0 0.4em 0.5em 0.4em;box-sizing: border-box;padding-bottom: 0.4em;background-color: white;}#sk-container-id-22 div.sk-label label {font-family: monospace;font-weight: bold;display: inline-block;line-height: 1.2em;}#sk-container-id-22 div.sk-label-container {text-align: center;}#sk-container-id-22 div.sk-container {/* jupyter's `normalize.less` sets `[hidden] { display: none; }` but bootstrap.min.css set `[hidden] { display: none !important; }` so we also need the `!important` here to be able to override the default hidden behavior on the sphinx rendered scikit-learn.org. See: https://github.com/scikit-learn/scikit-learn/issues/21755 */display: inline-block !important;position: relative;}#sk-container-id-22 div.sk-text-repr-fallback {display: none;}</style><div id=\"sk-container-id-22\" class=\"sk-top-container\"><div class=\"sk-text-repr-fallback\"><pre>RandomizedSearchCV(cv=5, estimator=LGBMClassifier(random_state=42),\n",
       "                   param_distributions={&#x27;learning_rate&#x27;: array([0.05, 0.1 , 0.15, 0.2 ]),\n",
       "                                        &#x27;max_depth&#x27;: array([ 3,  5,  7,  9, 11, 13, 15]),\n",
       "                                        &#x27;min_child_weight&#x27;: [2, 4, 8, 16],\n",
       "                                        &#x27;n_estimators&#x27;: array([100, 200, 300, 400, 500, 600, 700])},\n",
       "                   random_state=42, scoring=&#x27;accuracy&#x27;, verbose=1)</pre><b>In a Jupyter environment, please rerun this cell to show the HTML representation or trust the notebook. <br />On GitHub, the HTML representation is unable to render, please try loading this page with nbviewer.org.</b></div><div class=\"sk-container\" hidden><div class=\"sk-item sk-dashed-wrapped\"><div class=\"sk-label-container\"><div class=\"sk-label sk-toggleable\"><input class=\"sk-toggleable__control sk-hidden--visually\" id=\"sk-estimator-id-52\" type=\"checkbox\" ><label for=\"sk-estimator-id-52\" class=\"sk-toggleable__label sk-toggleable__label-arrow\">RandomizedSearchCV</label><div class=\"sk-toggleable__content\"><pre>RandomizedSearchCV(cv=5, estimator=LGBMClassifier(random_state=42),\n",
       "                   param_distributions={&#x27;learning_rate&#x27;: array([0.05, 0.1 , 0.15, 0.2 ]),\n",
       "                                        &#x27;max_depth&#x27;: array([ 3,  5,  7,  9, 11, 13, 15]),\n",
       "                                        &#x27;min_child_weight&#x27;: [2, 4, 8, 16],\n",
       "                                        &#x27;n_estimators&#x27;: array([100, 200, 300, 400, 500, 600, 700])},\n",
       "                   random_state=42, scoring=&#x27;accuracy&#x27;, verbose=1)</pre></div></div></div><div class=\"sk-parallel\"><div class=\"sk-parallel-item\"><div class=\"sk-item\"><div class=\"sk-label-container\"><div class=\"sk-label sk-toggleable\"><input class=\"sk-toggleable__control sk-hidden--visually\" id=\"sk-estimator-id-53\" type=\"checkbox\" ><label for=\"sk-estimator-id-53\" class=\"sk-toggleable__label sk-toggleable__label-arrow\">estimator: LGBMClassifier</label><div class=\"sk-toggleable__content\"><pre>LGBMClassifier(random_state=42)</pre></div></div></div><div class=\"sk-serial\"><div class=\"sk-item\"><div class=\"sk-estimator sk-toggleable\"><input class=\"sk-toggleable__control sk-hidden--visually\" id=\"sk-estimator-id-54\" type=\"checkbox\" ><label for=\"sk-estimator-id-54\" class=\"sk-toggleable__label sk-toggleable__label-arrow\">LGBMClassifier</label><div class=\"sk-toggleable__content\"><pre>LGBMClassifier(random_state=42)</pre></div></div></div></div></div></div></div></div></div></div>"
      ],
      "text/plain": [
       "RandomizedSearchCV(cv=5, estimator=LGBMClassifier(random_state=42),\n",
       "                   param_distributions={'learning_rate': array([0.05, 0.1 , 0.15, 0.2 ]),\n",
       "                                        'max_depth': array([ 3,  5,  7,  9, 11, 13, 15]),\n",
       "                                        'min_child_weight': [2, 4, 8, 16],\n",
       "                                        'n_estimators': array([100, 200, 300, 400, 500, 600, 700])},\n",
       "                   random_state=42, scoring='accuracy', verbose=1)"
      ]
     },
     "execution_count": 247,
     "metadata": {},
     "output_type": "execute_result"
    }
   ],
   "source": [
    "from lightgbm import LGBMClassifier\n",
    "lgbm_model= LGBMClassifier(random_state=42,\n",
    "                       learning_rate=0.1,                         \n",
    "                               n_jobs=-1)\n",
    "\n",
    "lgbm_search = RandomizedSearchCV(lgbm_model, param_distributions = params, scoring=\"accuracy\", n_iter = 10, cv = 5, verbose=1, random_state=42)\n",
    "lgbm_search.fit(X,y)"
   ]
  },
  {
   "cell_type": "code",
   "execution_count": 248,
   "metadata": {},
   "outputs": [
    {
     "data": {
      "text/plain": [
       "{'n_estimators': 100,\n",
       " 'min_child_weight': 4,\n",
       " 'max_depth': 7,\n",
       " 'learning_rate': 0.1}"
      ]
     },
     "execution_count": 248,
     "metadata": {},
     "output_type": "execute_result"
    }
   ],
   "source": [
    "lgbm_search.best_params_"
   ]
  },
  {
   "cell_type": "code",
   "execution_count": 249,
   "metadata": {},
   "outputs": [
    {
     "name": "stdout",
     "output_type": "stream",
     "text": [
      "accuracy : 0.97\n",
      "precision : 0.96\n",
      "recall : 0.98\n",
      "f1 : 0.97\n",
      "auc score : 0.993\n"
     ]
    },
    {
     "data": {
      "text/plain": [
       "(0.966996699669967,\n",
       " 0.9640102827763496,\n",
       " 0.984251968503937,\n",
       " 0.974025974025974,\n",
       " 0.992901720618256)"
      ]
     },
     "execution_count": 249,
     "metadata": {},
     "output_type": "execute_result"
    }
   ],
   "source": [
    "y_pred_lgbm = lgbm_search.best_estimator_.predict(X)\n",
    "y_pred_proba_lgbm = lgbm_search.best_estimator_.predict_proba(X)[:,1]\n",
    "eval_models(y_pred_xgb,y_pred_proba_xgb)"
   ]
  },
  {
   "attachments": {},
   "cell_type": "markdown",
   "metadata": {},
   "source": [
    "모델 비교"
   ]
  },
  {
   "cell_type": "code",
   "execution_count": 250,
   "metadata": {},
   "outputs": [
    {
     "name": "stdout",
     "output_type": "stream",
     "text": [
      "accuracy : 0.63\n",
      "precision : 0.63\n",
      "recall : 1.0\n",
      "f1 : 0.77\n",
      "auc score : 0.5\n",
      "accuracy : 0.78\n",
      "precision : 0.76\n",
      "recall : 0.96\n",
      "f1 : 0.85\n",
      "auc score : 0.815\n",
      "accuracy : 0.9\n",
      "precision : 0.9\n",
      "recall : 0.96\n",
      "f1 : 0.93\n",
      "auc score : 0.966\n",
      "accuracy : 0.97\n",
      "precision : 0.96\n",
      "recall : 0.99\n",
      "f1 : 0.98\n",
      "auc score : 0.994\n",
      "accuracy : 0.97\n",
      "precision : 0.96\n",
      "recall : 0.98\n",
      "f1 : 0.97\n",
      "auc score : 0.993\n"
     ]
    },
    {
     "data": {
      "text/html": [
       "<div>\n",
       "<style scoped>\n",
       "    .dataframe tbody tr th:only-of-type {\n",
       "        vertical-align: middle;\n",
       "    }\n",
       "\n",
       "    .dataframe tbody tr th {\n",
       "        vertical-align: top;\n",
       "    }\n",
       "\n",
       "    .dataframe thead th {\n",
       "        text-align: right;\n",
       "    }\n",
       "</style>\n",
       "<table border=\"1\" class=\"dataframe\">\n",
       "  <thead>\n",
       "    <tr style=\"text-align: right;\">\n",
       "      <th></th>\n",
       "      <th>Base</th>\n",
       "      <th>Logistic</th>\n",
       "      <th>Randomforest</th>\n",
       "      <th>LGBM</th>\n",
       "      <th>XGBoost</th>\n",
       "    </tr>\n",
       "  </thead>\n",
       "  <tbody>\n",
       "    <tr>\n",
       "      <th>accuracy</th>\n",
       "      <td>0.629</td>\n",
       "      <td>0.781</td>\n",
       "      <td>0.903</td>\n",
       "      <td>0.970</td>\n",
       "      <td>0.967</td>\n",
       "    </tr>\n",
       "    <tr>\n",
       "      <th>precision</th>\n",
       "      <td>0.629</td>\n",
       "      <td>0.758</td>\n",
       "      <td>0.897</td>\n",
       "      <td>0.964</td>\n",
       "      <td>0.964</td>\n",
       "    </tr>\n",
       "    <tr>\n",
       "      <th>recall</th>\n",
       "      <td>1.000</td>\n",
       "      <td>0.955</td>\n",
       "      <td>0.955</td>\n",
       "      <td>0.990</td>\n",
       "      <td>0.984</td>\n",
       "    </tr>\n",
       "    <tr>\n",
       "      <th>f1</th>\n",
       "      <td>0.772</td>\n",
       "      <td>0.846</td>\n",
       "      <td>0.925</td>\n",
       "      <td>0.977</td>\n",
       "      <td>0.974</td>\n",
       "    </tr>\n",
       "    <tr>\n",
       "      <th>auc</th>\n",
       "      <td>0.500</td>\n",
       "      <td>0.815</td>\n",
       "      <td>0.966</td>\n",
       "      <td>0.994</td>\n",
       "      <td>0.993</td>\n",
       "    </tr>\n",
       "  </tbody>\n",
       "</table>\n",
       "</div>"
      ],
      "text/plain": [
       "            Base  Logistic  Randomforest   LGBM  XGBoost\n",
       "accuracy   0.629     0.781         0.903  0.970    0.967\n",
       "precision  0.629     0.758         0.897  0.964    0.964\n",
       "recall     1.000     0.955         0.955  0.990    0.984\n",
       "f1         0.772     0.846         0.925  0.977    0.974\n",
       "auc        0.500     0.815         0.966  0.994    0.993"
      ]
     },
     "execution_count": 250,
     "metadata": {},
     "output_type": "execute_result"
    }
   ],
   "source": [
    "comparison_metrics = pd.DataFrame(index=['accuracy', 'precision', 'recall', 'f1', 'auc'], columns=['Base','Logistic', 'Randomforest', 'LGBM', 'XGBoost'])\n",
    "comparison_metrics['Base'] = eval_models(baseline,baseline)\n",
    "comparison_metrics['Logistic'] =eval_models(y_pred_lr,y_pred_proba_lr)\n",
    "comparison_metrics['Randomforest'] =eval_models(y_pred_rf,y_pred_proba_rf)\n",
    "comparison_metrics['LGBM'] =eval_models(y_pred_lgbm,y_pred_proba_lgbm)\n",
    "comparison_metrics['XGBoost'] =eval_models(y_pred_xgb,y_pred_proba_xgb)\n",
    "comparison_metrics.round(3)"
   ]
  },
  {
   "attachments": {},
   "cell_type": "markdown",
   "metadata": {},
   "source": [
    "지표가 가장 좋은 XGBoost모델을 선택"
   ]
  },
  {
   "attachments": {},
   "cell_type": "markdown",
   "metadata": {},
   "source": [
    "### 이탈 확률 확인"
   ]
  },
  {
   "cell_type": "code",
   "execution_count": 258,
   "metadata": {},
   "outputs": [],
   "source": [
    "df_fansim['churn_proba'] =  y_pred_proba_lgbm"
   ]
  },
  {
   "cell_type": "code",
   "execution_count": 260,
   "metadata": {},
   "outputs": [],
   "source": [
    "df_fansim.to_csv('cp2_ML_proba.csv', index=False)"
   ]
  },
  {
   "cell_type": "code",
   "execution_count": 261,
   "metadata": {},
   "outputs": [
    {
     "data": {
      "text/html": [
       "<div>\n",
       "<style scoped>\n",
       "    .dataframe tbody tr th:only-of-type {\n",
       "        vertical-align: middle;\n",
       "    }\n",
       "\n",
       "    .dataframe tbody tr th {\n",
       "        vertical-align: top;\n",
       "    }\n",
       "\n",
       "    .dataframe thead th {\n",
       "        text-align: right;\n",
       "    }\n",
       "</style>\n",
       "<table border=\"1\" class=\"dataframe\">\n",
       "  <thead>\n",
       "    <tr style=\"text-align: right;\">\n",
       "      <th></th>\n",
       "      <th>user_nickname</th>\n",
       "      <th>churn_proba</th>\n",
       "    </tr>\n",
       "  </thead>\n",
       "  <tbody>\n",
       "    <tr>\n",
       "      <th>0</th>\n",
       "      <td>구독</td>\n",
       "      <td>0.938028</td>\n",
       "    </tr>\n",
       "    <tr>\n",
       "      <th>1</th>\n",
       "      <td>가가가가가가가가가가가가가가가가가가가가</td>\n",
       "      <td>0.921040</td>\n",
       "    </tr>\n",
       "    <tr>\n",
       "      <th>2</th>\n",
       "      <td>백오105105</td>\n",
       "      <td>0.795766</td>\n",
       "    </tr>\n",
       "    <tr>\n",
       "      <th>3</th>\n",
       "      <td>아봉둥이</td>\n",
       "      <td>0.770558</td>\n",
       "    </tr>\n",
       "    <tr>\n",
       "      <th>4</th>\n",
       "      <td>사뚜</td>\n",
       "      <td>0.692443</td>\n",
       "    </tr>\n",
       "    <tr>\n",
       "      <th>...</th>\n",
       "      <td>...</td>\n",
       "      <td>...</td>\n",
       "    </tr>\n",
       "    <tr>\n",
       "      <th>220</th>\n",
       "      <td>왕군</td>\n",
       "      <td>0.002479</td>\n",
       "    </tr>\n",
       "    <tr>\n",
       "      <th>221</th>\n",
       "      <td>윰로로</td>\n",
       "      <td>0.002315</td>\n",
       "    </tr>\n",
       "    <tr>\n",
       "      <th>222</th>\n",
       "      <td>겨우디</td>\n",
       "      <td>0.002265</td>\n",
       "    </tr>\n",
       "    <tr>\n",
       "      <th>223</th>\n",
       "      <td>유은_</td>\n",
       "      <td>0.002055</td>\n",
       "    </tr>\n",
       "    <tr>\n",
       "      <th>224</th>\n",
       "      <td>리리치</td>\n",
       "      <td>0.002036</td>\n",
       "    </tr>\n",
       "  </tbody>\n",
       "</table>\n",
       "<p>225 rows × 2 columns</p>\n",
       "</div>"
      ],
      "text/plain": [
       "            user_nickname  churn_proba\n",
       "0                      구독     0.938028\n",
       "1    가가가가가가가가가가가가가가가가가가가가     0.921040\n",
       "2                백오105105     0.795766\n",
       "3                    아봉둥이     0.770558\n",
       "4                      사뚜     0.692443\n",
       "..                    ...          ...\n",
       "220                    왕군     0.002479\n",
       "221                   윰로로     0.002315\n",
       "222                   겨우디     0.002265\n",
       "223                   유은_     0.002055\n",
       "224                   리리치     0.002036\n",
       "\n",
       "[225 rows x 2 columns]"
      ]
     },
     "execution_count": 261,
     "metadata": {},
     "output_type": "execute_result"
    }
   ],
   "source": [
    "#잔존 고객의 이탈확률을 확인\n",
    "df_proba = df_fansim[df_fansim['churn']==0][['user_nickname','churn_proba']].sort_values(ascending=False,by='churn_proba').reset_index(drop=True)\n",
    "df_proba"
   ]
  },
  {
   "cell_type": "code",
   "execution_count": 262,
   "metadata": {},
   "outputs": [],
   "source": [
    "df_proba.to_csv('cp2_ML_분석결과.csv', index=False)"
   ]
  },
  {
   "attachments": {},
   "cell_type": "markdown",
   "metadata": {},
   "source": [
    "ML 예측확률 분석"
   ]
  },
  {
   "cell_type": "code",
   "execution_count": 265,
   "metadata": {},
   "outputs": [
    {
     "name": "stderr",
     "output_type": "stream",
     "text": [
      "C:\\Users\\elyse\\AppData\\Local\\Temp\\ipykernel_23336\\2278493892.py:2: FutureWarning: The default value of numeric_only in DataFrameGroupBy.mean is deprecated. In a future version, numeric_only will default to False. Either specify numeric_only or select only columns which should be valid for the function.\n",
      "  df_fansim.groupby('celeb_type').mean()['churn_proba']\n"
     ]
    },
    {
     "data": {
      "text/plain": [
       "celeb_type\n",
       "churn_customer    0.908885\n",
       "long_term         0.082179\n",
       "mid_term          0.146424\n",
       "new_customer      0.324596\n",
       "Name: churn_proba, dtype: float64"
      ]
     },
     "execution_count": 265,
     "metadata": {},
     "output_type": "execute_result"
    }
   ],
   "source": [
    "#고객 타입별\n",
    "df_fansim.groupby('celeb_type').mean()['churn_proba']"
   ]
  },
  {
   "cell_type": "code",
   "execution_count": 266,
   "metadata": {},
   "outputs": [
    {
     "name": "stderr",
     "output_type": "stream",
     "text": [
      "C:\\Users\\elyse\\AppData\\Local\\Temp\\ipykernel_23336\\3786383368.py:1: FutureWarning: The default value of numeric_only in DataFrameGroupBy.mean is deprecated. In a future version, numeric_only will default to False. Either specify numeric_only or select only columns which should be valid for the function.\n",
      "  df_fansim.groupby('celeb_type').mean()['churn_proba'].drop('churn_customer').plot.bar()\n"
     ]
    },
    {
     "data": {
      "text/plain": [
       "<AxesSubplot: xlabel='celeb_type'>"
      ]
     },
     "execution_count": 266,
     "metadata": {},
     "output_type": "execute_result"
    },
    {
     "data": {
      "image/png": "[encoded data removed]",
      "text/plain": [
       "<Figure size 640x480 with 1 Axes>"
      ]
     },
     "metadata": {},
     "output_type": "display_data"
    }
   ],
   "source": [
    "df_fansim.groupby('celeb_type').mean()['churn_proba'].drop('churn_customer').plot.bar()"
   ]
  },
  {
   "attachments": {},
   "cell_type": "markdown",
   "metadata": {},
   "source": [
    "### 특성중요도 확인"
   ]
  },
  {
   "cell_type": "code",
   "execution_count": 267,
   "metadata": {},
   "outputs": [
    {
     "data": {
      "text/plain": [
       "<AxesSubplot: >"
      ]
     },
     "execution_count": 267,
     "metadata": {},
     "output_type": "execute_result"
    },
    {
     "data": {
      "image/png": "[encoded data removed]",
      "text/plain": [
       "<Figure size 640x480 with 1 Axes>"
      ]
     },
     "metadata": {},
     "output_type": "display_data"
    }
   ],
   "source": [
    "import matplotlib.pyplot as plt\n",
    "importances  = pd.Series(lgbm_search.best_estimator_.feature_importances_, X.columns)\n",
    "\n",
    "importances.sort_values().plot.barh()"
   ]
  },
  {
   "cell_type": "code",
   "execution_count": 268,
   "metadata": {},
   "outputs": [
    {
     "name": "stderr",
     "output_type": "stream",
     "text": [
      "C:\\Users\\elyse\\AppData\\Local\\Temp\\ipykernel_23336\\260007206.py:1: FutureWarning: The default value of numeric_only in DataFrameGroupBy.mean is deprecated. In a future version, numeric_only will default to False. Either specify numeric_only or select only columns which should be valid for the function.\n",
      "  df_fansim.groupby('churn').mean()['last_week_fan_chat_count']\n"
     ]
    },
    {
     "data": {
      "text/plain": [
       "churn\n",
       "0    168.395556\n",
       "1     21.146982\n",
       "Name: last_week_fan_chat_count, dtype: float64"
      ]
     },
     "execution_count": 268,
     "metadata": {},
     "output_type": "execute_result"
    }
   ],
   "source": [
    "df_fansim.groupby('churn').mean()['last_week_fan_chat_count']"
   ]
  },
  {
   "cell_type": "code",
   "execution_count": 270,
   "metadata": {},
   "outputs": [
    {
     "name": "stderr",
     "output_type": "stream",
     "text": [
      "C:\\Users\\elyse\\AppData\\Local\\Temp\\ipykernel_23336\\397827665.py:3: FutureWarning: The default value of numeric_only in DataFrameGroupBy.mean is deprecated. In a future version, numeric_only will default to False. Either specify numeric_only or select only columns which should be valid for the function.\n",
      "  df_tmp.groupby('churn').mean()['celeb_chat_len/week']\n"
     ]
    },
    {
     "data": {
      "text/plain": [
       "churn\n",
       "0    1998.169353\n",
       "1     796.218513\n",
       "Name: celeb_chat_len/week, dtype: float64"
      ]
     },
     "execution_count": 270,
     "metadata": {},
     "output_type": "execute_result"
    }
   ],
   "source": [
    "df_tmp = df_fansim.copy()\n",
    "df_tmp['celeb_chat_len/week'] = df_tmp['celeb_chat_avg_len'] * df_tmp['avg_celeb_chat']\n",
    "df_tmp.groupby('churn').mean()['celeb_chat_len/week']"
   ]
  },
  {
   "attachments": {},
   "cell_type": "markdown",
   "metadata": {},
   "source": [
    "순열중요도 확인"
   ]
  },
  {
   "cell_type": "code",
   "execution_count": 278,
   "metadata": {},
   "outputs": [
    {
     "data": {
      "text/html": [
       "\n",
       "    <style>\n",
       "    table.eli5-weights tr:hover {\n",
       "        filter: brightness(85%);\n",
       "    }\n",
       "</style>\n",
       "\n",
       "\n",
       "\n",
       "    \n",
       "\n",
       "    \n",
       "\n",
       "    \n",
       "\n",
       "    \n",
       "\n",
       "    \n",
       "\n",
       "    \n",
       "\n",
       "\n",
       "    \n",
       "\n",
       "    \n",
       "\n",
       "    \n",
       "\n",
       "    \n",
       "\n",
       "    \n",
       "\n",
       "    \n",
       "\n",
       "\n",
       "    \n",
       "\n",
       "    \n",
       "\n",
       "    \n",
       "\n",
       "    \n",
       "\n",
       "    \n",
       "        <table class=\"eli5-weights eli5-feature-importances\" style=\"border-collapse: collapse; border: none; margin-top: 0em; table-layout: auto;\">\n",
       "    <thead>\n",
       "    <tr style=\"border: none;\">\n",
       "        <th style=\"padding: 0 1em 0 0.5em; text-align: right; border: none;\">Weight</th>\n",
       "        <th style=\"padding: 0 0.5em 0 0.5em; text-align: left; border: none;\">Feature</th>\n",
       "    </tr>\n",
       "    </thead>\n",
       "    <tbody>\n",
       "    \n",
       "        <tr style=\"background-color: hsl(120, 100.00%, 80.00%); border: none;\">\n",
       "            <td style=\"padding: 0 1em 0 0.5em; text-align: right; border: none;\">\n",
       "                0.1691\n",
       "                \n",
       "                    &plusmn; 0.0318\n",
       "                \n",
       "            </td>\n",
       "            <td style=\"padding: 0 0.5em 0 0.5em; text-align: left; border: none;\">\n",
       "                celeb_chat_length\n",
       "            </td>\n",
       "        </tr>\n",
       "    \n",
       "        <tr style=\"background-color: hsl(120, 100.00%, 82.34%); border: none;\">\n",
       "            <td style=\"padding: 0 1em 0 0.5em; text-align: right; border: none;\">\n",
       "                0.1416\n",
       "                \n",
       "                    &plusmn; 0.0108\n",
       "                \n",
       "            </td>\n",
       "            <td style=\"padding: 0 0.5em 0 0.5em; text-align: left; border: none;\">\n",
       "                last_week_fan_chat_count\n",
       "            </td>\n",
       "        </tr>\n",
       "    \n",
       "        <tr style=\"background-color: hsl(120, 100.00%, 89.76%); border: none;\">\n",
       "            <td style=\"padding: 0 1em 0 0.5em; text-align: right; border: none;\">\n",
       "                0.0650\n",
       "                \n",
       "                    &plusmn; 0.0142\n",
       "                \n",
       "            </td>\n",
       "            <td style=\"padding: 0 0.5em 0 0.5em; text-align: left; border: none;\">\n",
       "                fan_last_week_chat_rate\n",
       "            </td>\n",
       "        </tr>\n",
       "    \n",
       "        <tr style=\"background-color: hsl(120, 100.00%, 92.20%); border: none;\">\n",
       "            <td style=\"padding: 0 1em 0 0.5em; text-align: right; border: none;\">\n",
       "                0.0441\n",
       "                \n",
       "                    &plusmn; 0.0105\n",
       "                \n",
       "            </td>\n",
       "            <td style=\"padding: 0 0.5em 0 0.5em; text-align: left; border: none;\">\n",
       "                celeb_chat_count\n",
       "            </td>\n",
       "        </tr>\n",
       "    \n",
       "        <tr style=\"background-color: hsl(120, 100.00%, 92.61%); border: none;\">\n",
       "            <td style=\"padding: 0 1em 0 0.5em; text-align: right; border: none;\">\n",
       "                0.0408\n",
       "                \n",
       "                    &plusmn; 0.0135\n",
       "                \n",
       "            </td>\n",
       "            <td style=\"padding: 0 0.5em 0 0.5em; text-align: left; border: none;\">\n",
       "                celeb_chat_len/week\n",
       "            </td>\n",
       "        </tr>\n",
       "    \n",
       "        <tr style=\"background-color: hsl(120, 100.00%, 93.92%); border: none;\">\n",
       "            <td style=\"padding: 0 1em 0 0.5em; text-align: right; border: none;\">\n",
       "                0.0309\n",
       "                \n",
       "                    &plusmn; 0.0090\n",
       "                \n",
       "            </td>\n",
       "            <td style=\"padding: 0 0.5em 0 0.5em; text-align: left; border: none;\">\n",
       "                avg_fan_chat\n",
       "            </td>\n",
       "        </tr>\n",
       "    \n",
       "        <tr style=\"background-color: hsl(120, 100.00%, 93.94%); border: none;\">\n",
       "            <td style=\"padding: 0 1em 0 0.5em; text-align: right; border: none;\">\n",
       "                0.0307\n",
       "                \n",
       "                    &plusmn; 0.0113\n",
       "                \n",
       "            </td>\n",
       "            <td style=\"padding: 0 0.5em 0 0.5em; text-align: left; border: none;\">\n",
       "                celeb_last_week_chat_rate\n",
       "            </td>\n",
       "        </tr>\n",
       "    \n",
       "        <tr style=\"background-color: hsl(120, 100.00%, 93.99%); border: none;\">\n",
       "            <td style=\"padding: 0 1em 0 0.5em; text-align: right; border: none;\">\n",
       "                0.0304\n",
       "                \n",
       "                    &plusmn; 0.0127\n",
       "                \n",
       "            </td>\n",
       "            <td style=\"padding: 0 0.5em 0 0.5em; text-align: left; border: none;\">\n",
       "                fan_chat_count\n",
       "            </td>\n",
       "        </tr>\n",
       "    \n",
       "        <tr style=\"background-color: hsl(120, 100.00%, 94.34%); border: none;\">\n",
       "            <td style=\"padding: 0 1em 0 0.5em; text-align: right; border: none;\">\n",
       "                0.0279\n",
       "                \n",
       "                    &plusmn; 0.0076\n",
       "                \n",
       "            </td>\n",
       "            <td style=\"padding: 0 0.5em 0 0.5em; text-align: left; border: none;\">\n",
       "                celeb_chat_avg_len\n",
       "            </td>\n",
       "        </tr>\n",
       "    \n",
       "        <tr style=\"background-color: hsl(120, 100.00%, 96.00%); border: none;\">\n",
       "            <td style=\"padding: 0 1em 0 0.5em; text-align: right; border: none;\">\n",
       "                0.0170\n",
       "                \n",
       "                    &plusmn; 0.0072\n",
       "                \n",
       "            </td>\n",
       "            <td style=\"padding: 0 0.5em 0 0.5em; text-align: left; border: none;\">\n",
       "                last_week_celeb_chat_count\n",
       "            </td>\n",
       "        </tr>\n",
       "    \n",
       "        <tr style=\"background-color: hsl(120, 100.00%, 96.85%); border: none;\">\n",
       "            <td style=\"padding: 0 1em 0 0.5em; text-align: right; border: none;\">\n",
       "                0.0120\n",
       "                \n",
       "                    &plusmn; 0.0074\n",
       "                \n",
       "            </td>\n",
       "            <td style=\"padding: 0 0.5em 0 0.5em; text-align: left; border: none;\">\n",
       "                avg_celeb_chat\n",
       "            </td>\n",
       "        </tr>\n",
       "    \n",
       "        <tr style=\"background-color: hsl(120, 100.00%, 98.16%); border: none;\">\n",
       "            <td style=\"padding: 0 1em 0 0.5em; text-align: right; border: none;\">\n",
       "                0.0056\n",
       "                \n",
       "                    &plusmn; 0.0040\n",
       "                \n",
       "            </td>\n",
       "            <td style=\"padding: 0 0.5em 0 0.5em; text-align: left; border: none;\">\n",
       "                sticker_count\n",
       "            </td>\n",
       "        </tr>\n",
       "    \n",
       "        <tr style=\"background-color: hsl(120, 100.00%, 98.51%); border: none;\">\n",
       "            <td style=\"padding: 0 1em 0 0.5em; text-align: right; border: none;\">\n",
       "                0.0041\n",
       "                \n",
       "                    &plusmn; 0.0022\n",
       "                \n",
       "            </td>\n",
       "            <td style=\"padding: 0 0.5em 0 0.5em; text-align: left; border: none;\">\n",
       "                Total_sticker_sales\n",
       "            </td>\n",
       "        </tr>\n",
       "    \n",
       "        <tr style=\"background-color: hsl(120, 100.00%, 99.27%); border: none;\">\n",
       "            <td style=\"padding: 0 1em 0 0.5em; text-align: right; border: none;\">\n",
       "                0.0015\n",
       "                \n",
       "                    &plusmn; 0.0010\n",
       "                \n",
       "            </td>\n",
       "            <td style=\"padding: 0 0.5em 0 0.5em; text-align: left; border: none;\">\n",
       "                avg_sticker_price\n",
       "            </td>\n",
       "        </tr>\n",
       "    \n",
       "    \n",
       "    </tbody>\n",
       "</table>\n",
       "    \n",
       "\n",
       "    \n",
       "\n",
       "\n",
       "    \n",
       "\n",
       "    \n",
       "\n",
       "    \n",
       "\n",
       "    \n",
       "\n",
       "    \n",
       "\n",
       "    \n",
       "\n",
       "\n",
       "\n"
      ],
      "text/plain": [
       "<IPython.core.display.HTML object>"
      ]
     },
     "execution_count": 278,
     "metadata": {},
     "output_type": "execute_result"
    }
   ],
   "source": [
    "import eli5\n",
    "from eli5.sklearn import PermutationImportance\n",
    "\n",
    "permuter = PermutationImportance(\n",
    "    lgbm_search.best_estimator_,\n",
    "    scoring=\"accuracy\",  \n",
    "    n_iter=10,\n",
    "    random_state=42,\n",
    ")\n",
    "\n",
    "permuter.fit(X,y)\n",
    "\n",
    "feature_names = X.columns.tolist()\n",
    "eli5.show_weights(\n",
    "    permuter,\n",
    "    top=None,  \n",
    "    feature_names=feature_names\n",
    ")\n"
   ]
  }
 ],
 "metadata": {
  "kernelspec": {
   "display_name": "cp2",
   "language": "python",
   "name": "python3"
  },
  "language_info": {
   "codemirror_mode": {
    "name": "ipython",
    "version": 3
   },
   "file_extension": ".py",
   "mimetype": "text/x-python",
   "name": "python",
   "nbconvert_exporter": "python",
   "pygments_lexer": "ipython3",
   "version": "3.10.9"
  },
  "orig_nbformat": 4,
  "vscode": {
   "interpreter": {
    "hash": "cb0c6ef1fb7278c82565420123d53b3e0a60cb7715cc896fb2a9a747c41473f5"
   }
  }
 },
 "nbformat": 4,
 "nbformat_minor": 2
}
